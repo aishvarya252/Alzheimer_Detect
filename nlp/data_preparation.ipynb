{
  "cells": [
    {
      "cell_type": "markdown",
      "metadata": {
        "id": "view-in-github",
        "colab_type": "text"
      },
      "source": [
        "<a href=\"https://colab.research.google.com/github/42bismuth/Alzheimer-Detection/blob/main/nlp/data_preparation.ipynb\" target=\"_parent\"><img src=\"https://colab.research.google.com/assets/colab-badge.svg\" alt=\"Open In Colab\"/></a>"
      ]
    },
    {
      "cell_type": "code",
      "execution_count": 1,
      "metadata": {
        "id": "pbQIeQYZ5wMA"
      },
      "outputs": [],
      "source": [
        "import pandas as pd\n",
        "import re\n",
        "import numpy as np\n",
        "import matplotlib.pyplot as plt\n",
        "from nltk.stem import SnowballStemmer\n",
        "from nltk.stem import WordNetLemmatizer\n",
        "from nltk.tokenize import word_tokenize"
      ]
    },
    {
      "cell_type": "code",
      "execution_count": 2,
      "metadata": {
        "colab": {
          "base_uri": "https://localhost:8080/"
        },
        "id": "szz5KnOZ59Fn",
        "outputId": "48194d30-de02-448e-d6c3-6e00fe494024"
      },
      "outputs": [
        {
          "output_type": "stream",
          "name": "stdout",
          "text": [
            "Mounted at /content/drive\n"
          ]
        }
      ],
      "source": [
        "from google.colab import drive\n",
        "drive.mount('/content/drive')"
      ]
    },
    {
      "cell_type": "code",
      "execution_count": 18,
      "metadata": {
        "id": "EdmWCOd95_bC"
      },
      "outputs": [],
      "source": [
        "path = r\"/content/drive/MyDrive/alzhiemers.csv\"\n",
        "df = pd.read_csv(path, sep=\"\\t\", encoding = 'latin1')"
      ]
    },
    {
      "cell_type": "markdown",
      "metadata": {
        "id": "rU3mhA1uH612"
      },
      "source": [
        "Data Reading and cleaning"
      ]
    },
    {
      "cell_type": "code",
      "execution_count": 19,
      "metadata": {
        "id": "p7VCkj0V6JBv"
      },
      "outputs": [],
      "source": [
        "df[['AD', 'Transcripts']] = df['AD,Transcripts'].str.split(\",\" , n =1, expand=True)\n",
        "\n",
        "df['Transcripts'] = df['Transcripts'].str.strip()\n",
        "del df['AD,Transcripts']"
      ]
    },
    {
      "cell_type": "code",
      "execution_count": 5,
      "metadata": {
        "id": "JzjLzupP6U5Z"
      },
      "outputs": [],
      "source": [
        "# 2 sentences per row\n",
        "def create_sentence_pairs(row):\n",
        "    sentences = row['Transcripts'].split('.')\n",
        "    pairs = [sentences[i] + sentences[i+1] for i in range(0, len(sentences)-1, 2)]\n",
        "    labels = [row['AD']] * len(pairs)\n",
        "    return pd.DataFrame({'Transcripts': pairs, 'AD': labels})\n",
        "\n",
        "new_df = pd.concat(df.apply(create_sentence_pairs, axis=1).tolist(), ignore_index=True)\n",
        "new_df['AD'] = new_df['AD'].astype('int')\n",
        "\n",
        "df = new_df"
      ]
    },
    {
      "cell_type": "code",
      "execution_count": 12,
      "metadata": {
        "id": "ChKdWlvhIJZr",
        "colab": {
          "base_uri": "https://localhost:8080/",
          "height": 507
        },
        "outputId": "838eff28-6f25-49c6-9a38-41f05eb66f12"
      },
      "outputs": [
        {
          "output_type": "stream",
          "name": "stdout",
          "text": [
            "Class 0 samples:  1421\n",
            "Class 1 samples:  1404\n"
          ]
        },
        {
          "output_type": "display_data",
          "data": {
            "text/plain": [
              "<Figure size 640x480 with 1 Axes>"
            ],
            "image/png": "[encoded data removed]"
          },
          "metadata": {}
        }
      ],
      "source": [
        "counts, bins = np.histogram(df['AD'])\n",
        "plt.hist(bins[:-1], bins, weights=counts)\n",
        "plt.title(\"Class Distribution\")\n",
        "plt.xlabel('class')\n",
        "plt.ylabel('Frequency')\n",
        "print(\"Class 0 samples: \",len(df[df['AD']==0]))\n",
        "print(\"Class 1 samples: \",len(df[df['AD']==1]))\n",
        "plt.show()"
      ]
    },
    {
      "cell_type": "code",
      "execution_count": 20,
      "metadata": {
        "id": "_Trhj_pL6bmI",
        "colab": {
          "base_uri": "https://localhost:8080/"
        },
        "outputId": "9c4b2d97-a35a-4820-e805-d675f4c2555d"
      },
      "outputs": [
        {
          "output_type": "stream",
          "name": "stdout",
          "text": [
            "0      [the scene is in the in the kitchen ,  the mot...\n",
            "1      [\" oh I see the sink is running over ,  I see ...\n",
            "2      [a boy and a girl are in the kitchen with thei...\n",
            "3      [it was summertime and mother and the children...\n",
            "4      [wait until I put my glasses on ,  oh ? there'...\n",
            "                             ...                        \n",
            "493    [well this one is in the cookie jar ,  and thi...\n",
            "494    [the little boy is on the stool which is tippi...\n",
            "495    [oh you want me to tell you ,  the mother and ...\n",
            "496    [oh that kid's gonna get a good spill off of t...\n",
            "497    [ah oh boy ,   oh the kids are trying to get t...\n",
            "Name: Transcripts, Length: 498, dtype: object\n",
            "5902\n",
            "5902\n"
          ]
        }
      ],
      "source": [
        "# 1 sentence per row + delete rows with less than 3 words\n",
        "split_transcripts = df['Transcripts'].str.split('.')\n",
        "print(split_transcripts)\n",
        "\n",
        "repeated_labels = [label for label, sentences_list in zip(df['AD'], split_transcripts) for _ in sentences_list]\n",
        "print(len(repeated_labels))\n",
        "\n",
        "sentences = [sentence.strip() for sentences_list in split_transcripts for sentence in sentences_list]\n",
        "print(len(sentences))\n",
        "\n",
        "if len(repeated_labels) != len(sentences):\n",
        "    raise ValueError(\"Lengths of arrays must match\")\n",
        "\n",
        "\n",
        "new_df = pd.DataFrame({\n",
        "    'Transcripts': sentences,\n",
        "    'AD': repeated_labels\n",
        "})\n",
        "\n",
        "\n",
        "new_df.reset_index(drop=True, inplace=True)\n",
        "new_df['AD'] = new_df['AD'].astype('int')\n",
        "#delete rows\n",
        "word_counts = new_df['Transcripts'].str.split().str.len()\n",
        "\n",
        "new_df = new_df[word_counts > 4]\n",
        "\n",
        "new_df.reset_index(drop=True, inplace=True)\n",
        "df = new_df"
      ]
    },
    {
      "cell_type": "code",
      "execution_count": 7,
      "metadata": {
        "id": "UbV_ncM1IDCJ",
        "colab": {
          "base_uri": "https://localhost:8080/",
          "height": 507
        },
        "outputId": "6ac84eaa-7f38-46b4-d294-b2cc4b26f452"
      },
      "outputs": [
        {
          "output_type": "stream",
          "name": "stdout",
          "text": [
            "Class 0 samples:  2219\n",
            "Class 1 samples:  2148\n"
          ]
        },
        {
          "output_type": "display_data",
          "data": {
            "text/plain": [
              "<Figure size 640x480 with 1 Axes>"
            ],
            "image/png": "[encoded data removed]"
          },
          "metadata": {}
        }
      ],
      "source": [
        "counts, bins = np.histogram(df['AD'])\n",
        "plt.hist(bins[:-1], bins, weights=counts)\n",
        "plt.title(\"Class Distribution\")\n",
        "plt.xlabel('class')\n",
        "plt.ylabel('Frequency')\n",
        "print(\"Class 0 samples: \",len(df[df['AD']==0]))\n",
        "print(\"Class 1 samples: \",len(df[df['AD']==1]))\n",
        "plt.show()"
      ]
    },
    {
      "cell_type": "markdown",
      "source": [
        "Data Preprocessing"
      ],
      "metadata": {
        "id": "ANtES1DjI-QE"
      }
    },
    {
      "cell_type": "code",
      "source": [
        "import string\n",
        "\n",
        "table = str.maketrans(string.punctuation, ' '*len(string.punctuation))\n",
        "string_punctuation_1 = string.punctuation.replace(\".\",\"\").replace(\"`\",\"\").replace(\"'\",\"\")\n",
        "table_ = str.maketrans(string_punctuation_1, ' '*len(string_punctuation_1))\n",
        "printable = set(string.printable)\n",
        "\n",
        "\n",
        "def clean_data(text):\n",
        "\n",
        "\n",
        "    sentence = text.lower()\n",
        "    sentence_no_punct = sentence.translate(table_)\n",
        "    space_remove = re.sub('\\s+',' ', sentence_no_punct)\n",
        "    return space_remove\n",
        "\n",
        "df['Transcripts_cleaned'] = df['Transcripts'].apply(lambda row: clean_data(row))"
      ],
      "metadata": {
        "id": "t9fFyT8CI0fa"
      },
      "execution_count": 21,
      "outputs": []
    },
    {
      "cell_type": "code",
      "source": [
        "df['Transcripts_cleaned']"
      ],
      "metadata": {
        "colab": {
          "base_uri": "https://localhost:8080/"
        },
        "id": "GTADdTkMRWfO",
        "outputId": "11fb15b9-5cf3-4e14-fa85-e7e80956eb2f"
      },
      "execution_count": 15,
      "outputs": [
        {
          "output_type": "execute_result",
          "data": {
            "text/plain": [
              "0       the scene is in the in the kitchen the mother ...\n",
              "1        a child is trying to get a boy is trying to g...\n",
              "2           it seems to be summer out the window is open \n",
              "3        the curtains are blowing it must be a gentle ...\n",
              "4        there's grass outside in the garden mother's ...\n",
              "                              ...                        \n",
              "2820     the little girl's reaching up there to get so...\n",
              "2821    ah oh boy oh the kids are trying to get the co...\n",
              "2822     and she's laughing but holding her hand up to...\n",
              "2823     and their mother's doing the dishes and not d...\n",
              "2824     that's all i can and tup two cups and a plate...\n",
              "Name: Transcripts_cleaned, Length: 2825, dtype: object"
            ]
          },
          "metadata": {},
          "execution_count": 15
        }
      ]
    },
    {
      "cell_type": "code",
      "source": [
        "stemmer = SnowballStemmer('english')\n",
        "def stem_words(text):\n",
        "    text = text.split()\n",
        "    stemmed_words = [stemmer.stem(word) for word in text]\n",
        "    text = \" \".join(stemmed_words)\n",
        "    return text\n",
        "\n",
        "df['Transcripts_stem'] = df['Transcripts_cleaned'].apply(lambda row: stem_words(row))"
      ],
      "metadata": {
        "id": "ov6bc32GRHKO"
      },
      "execution_count": 22,
      "outputs": []
    },
    {
      "cell_type": "code",
      "source": [
        "df['Transcripts_stem']"
      ],
      "metadata": {
        "colab": {
          "base_uri": "https://localhost:8080/"
        },
        "id": "SLBYkjj5R_K3",
        "outputId": "a485346f-fff3-4502-c2b8-52be4657f3f4"
      },
      "execution_count": 20,
      "outputs": [
        {
          "output_type": "execute_result",
          "data": {
            "text/plain": [
              "0       the scene is in the in the kitchen the mother ...\n",
              "1       a child is tri to get a boy is tri to get cook...\n",
              "2             it seem to be summer out the window is open\n",
              "3           the curtain are blow it must be a gentl breez\n",
              "4       there grass outsid in the garden mother finish...\n",
              "                              ...                        \n",
              "2820    the littl girl reach up there to get someth fr...\n",
              "2821        ah oh boy oh the kid are tri to get the cooki\n",
              "2822    and she laugh but hold her hand up to him and ...\n",
              "2823    and their mother do the dish and not do not be...\n",
              "2824       that all i can and tup two cup and a plate end\n",
              "Name: Transcripts_stem, Length: 2825, dtype: object"
            ]
          },
          "metadata": {},
          "execution_count": 20
        }
      ]
    },
    {
      "cell_type": "code",
      "source": [
        "from google.colab import auth\n",
        "from google.auth import default\n",
        "import gspread"
      ],
      "metadata": {
        "id": "eVTu4-Ej6SuX"
      },
      "execution_count": 9,
      "outputs": []
    },
    {
      "cell_type": "code",
      "source": [
        "auth.authenticate_user()\n",
        "creds, _ = default()\n",
        "gc = gspread.authorize(creds)"
      ],
      "metadata": {
        "id": "_XTis8Vr6jOf"
      },
      "execution_count": 10,
      "outputs": []
    },
    {
      "cell_type": "code",
      "source": [
        "worksheet = gc.open(\"alzheimer's_2\")\n",
        "sheet1 = worksheet.sheet1"
      ],
      "metadata": {
        "id": "kv7sl0wz6-W8"
      },
      "execution_count": 14,
      "outputs": []
    },
    {
      "cell_type": "code",
      "source": [
        "sheet1.update([df.columns.values.tolist()] + df.fillna(-1).values.tolist())"
      ],
      "metadata": {
        "colab": {
          "base_uri": "https://localhost:8080/"
        },
        "id": "s3KLiuGO62ez",
        "outputId": "8d4c4c64-753e-422c-9d37-d80aa0a0df58"
      },
      "execution_count": 16,
      "outputs": [
        {
          "output_type": "execute_result",
          "data": {
            "text/plain": [
              "{'spreadsheetId': '1dqz3VB---y3kYB5BzQdkBMtgMrP0yDyBF2-YVi6fv6I',\n",
              " 'updatedRange': 'Sheet1!A1:D2826',\n",
              " 'updatedRows': 2826,\n",
              " 'updatedColumns': 4,\n",
              " 'updatedCells': 11304}"
            ]
          },
          "metadata": {},
          "execution_count": 16
        }
      ]
    },
    {
      "cell_type": "code",
      "source": [
        "worksheet = gc.open(\"alzheimer's_1\")\n",
        "sheet2 = worksheet.sheet1"
      ],
      "metadata": {
        "id": "xdfYJNydSiI4"
      },
      "execution_count": 24,
      "outputs": []
    },
    {
      "cell_type": "code",
      "source": [
        "sheet2.update([df.columns.values.tolist()] + df.fillna(-1).values.tolist())"
      ],
      "metadata": {
        "colab": {
          "base_uri": "https://localhost:8080/"
        },
        "id": "i-zkVLCk8OdJ",
        "outputId": "17c93404-0a64-4482-8431-6ba118f23b9f"
      },
      "execution_count": 25,
      "outputs": [
        {
          "output_type": "execute_result",
          "data": {
            "text/plain": [
              "{'spreadsheetId': '1fOUQ5zcgVetupwNVSLQYLjRAynU39Qpg1y8SoNSUiuE',\n",
              " 'updatedRange': 'Sheet1!A1:D4368',\n",
              " 'updatedRows': 4368,\n",
              " 'updatedColumns': 4,\n",
              " 'updatedCells': 17472}"
            ]
          },
          "metadata": {},
          "execution_count": 25
        }
      ]
    }
  ],
  "metadata": {
    "colab": {
      "provenance": [],
      "authorship_tag": "ABX9TyNVtMQ18dLtKx7vDrzmwsws",
      "include_colab_link": true
    },
    "kernelspec": {
      "display_name": "Python 3",
      "name": "python3"
    },
    "language_info": {
      "name": "python"
    }
  },
  "nbformat": 4,
  "nbformat_minor": 0
}