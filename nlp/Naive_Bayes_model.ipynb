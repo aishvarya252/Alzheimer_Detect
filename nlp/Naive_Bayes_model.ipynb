{
  "cells": [
    {
      "cell_type": "markdown",
      "metadata": {
        "id": "view-in-github",
        "colab_type": "text"
      },
      "source": [
        "<a href=\"https://colab.research.google.com/github/42bismuth/Alzheimer-Detection/blob/main/nlp/Naive_Bayes_model.ipynb\" target=\"_parent\"><img src=\"https://colab.research.google.com/assets/colab-badge.svg\" alt=\"Open In Colab\"/></a>"
      ]
    },
    {
      "cell_type": "code",
      "execution_count": 3,
      "metadata": {
        "id": "S6tB3gOUY8q1"
      },
      "outputs": [],
      "source": [
        "import pandas as pd\n",
        "import spacy\n",
        "import numpy as np\n",
        "import glob\n",
        "import re\n",
        "from sklearn.utils import shuffle\n",
        "from sklearn.model_selection import train_test_split\n",
        "from sklearn.feature_extraction.text import CountVectorizer, TfidfVectorizer\n",
        "from sklearn.metrics import roc_auc_score\n",
        "from sklearn.metrics import classification_report\n",
        "from sklearn.metrics import confusion_matrix\n",
        "from sklearn import metrics\n",
        "from sklearn.model_selection import GridSearchCV\n",
        "from sklearn.pipeline import Pipeline\n",
        "from sklearn.svm import LinearSVC\n",
        "from sklearn.svm import SVC\n",
        "\n",
        "\n",
        "import sys"
      ]
    },
    {
      "cell_type": "code",
      "execution_count": 4,
      "metadata": {
        "id": "7UJsWZ-tY8q2",
        "colab": {
          "base_uri": "https://localhost:8080/",
          "height": 466
        },
        "outputId": "f930c0d5-fdb9-48dc-e462-b0b54b5e6dd8"
      },
      "outputs": [
        {
          "output_type": "execute_result",
          "data": {
            "text/plain": [
              "   label                                           sentence  \\\n",
              "0      0  [\"the boy is on a stool that is falling while ...   \n",
              "1      0  ['oh I remember this one . [+ exc] ', 'okay . ...   \n",
              "2      1  ['the sink is running over . ', \"and &-uh the ...   \n",
              "3      0  ['the woman is wiping the dishes . ', \"she's s...   \n",
              "4      1  ['&-uh a boy is &-uh puttin(g) somethin(g) in ...   \n",
              "\n",
              "                                                text  \\\n",
              "0  the boy is on a stool that is falling while he...   \n",
              "1  oh I remember this one . [+ exc]  okay . [+ ex...   \n",
              "2  the sink is running over .  and &-uh the [/] t...   \n",
              "3  the woman is wiping the dishes .  she's standi...   \n",
              "4  &-uh a boy is &-uh puttin(g) somethin(g) in th...   \n",
              "\n",
              "                                            pos_text  \\\n",
              "0  the DET boy NOUN is AUX on ADP a DET stool NOU...   \n",
              "1  oh INTJ I PRON remember VERB this DET one NOUN...   \n",
              "2  the DET sink NOUN is AUX running VERB over ADV...   \n",
              "3  the DET woman NOUN is AUX wiping VERB the DET ...   \n",
              "4  & CCONJ -uh INTJ a DET boy NOUN is AUX & CCONJ...   \n",
              "\n",
              "                                                pos_  \\\n",
              "0  DET NOUN AUX ADP DET NOUN PRON AUX VERB SCONJ ...   \n",
              "1  INTJ PRON VERB DET NOUN PUNCT X CCONJ X X SPAC...   \n",
              "2  DET NOUN AUX VERB ADV PUNCT SPACE CCONJ CCONJ ...   \n",
              "3  DET NOUN AUX VERB DET NOUN PUNCT SPACE PRON AU...   \n",
              "4  CCONJ INTJ DET NOUN AUX CCONJ PROPN PROPN PUNC...   \n",
              "\n",
              "                                   pos_text_complete  \\\n",
              "0  the determiner boy noun is auxiliary on adposi...   \n",
              "1  oh interjection I pronoun remember verb this d...   \n",
              "2  the determiner sink noun is auxiliary running ...   \n",
              "3  the determiner woman noun is auxiliary wiping ...   \n",
              "4  & Cconjunction -uh interjection a determiner b...   \n",
              "\n",
              "                                        pos_complete  \\\n",
              "0  determiner noun auxiliary adposition determine...   \n",
              "1  interjection pronoun verb determiner noun punc...   \n",
              "2  determiner noun auxiliary verb adverb punctuat...   \n",
              "3  determiner noun auxiliary verb determiner noun...   \n",
              "4  Cconjunction interjection determiner noun auxi...   \n",
              "\n",
              "                                            new_text  \\\n",
              "0  the boy is on a stool that is falling while he...   \n",
              "1  oh I remember this one .   okay .   the mom's ...   \n",
              "2  the sink is running over .  and -uh the [ repe...   \n",
              "3  the woman is wiping the dishes .  she's standi...   \n",
              "4  -uh a boy is -uh puttin [ incomplete_word ] so...   \n",
              "\n",
              "                                        text_for_POS  \n",
              "0  the boy is on a stool that is falling while he...  \n",
              "1  oh I remember this one .   okay .   the mom's ...  \n",
              "2  the sink is running over .  and -uh the  the l...  \n",
              "3  the woman is wiping the dishes .  she's standi...  \n",
              "4  -uh a boy is -uh puttin  somethin  in the clos...  "
            ],
            "text/html": [
              "\n",
              "  <div id=\"df-0cb59458-5bed-4422-bf11-baab4fd7733f\" class=\"colab-df-container\">\n",
              "    <div>\n",
              "<style scoped>\n",
              "    .dataframe tbody tr th:only-of-type {\n",
              "        vertical-align: middle;\n",
              "    }\n",
              "\n",
              "    .dataframe tbody tr th {\n",
              "        vertical-align: top;\n",
              "    }\n",
              "\n",
              "    .dataframe thead th {\n",
              "        text-align: right;\n",
              "    }\n",
              "</style>\n",
              "<table border=\"1\" class=\"dataframe\">\n",
              "  <thead>\n",
              "    <tr style=\"text-align: right;\">\n",
              "      <th></th>\n",
              "      <th>label</th>\n",
              "      <th>sentence</th>\n",
              "      <th>text</th>\n",
              "      <th>pos_text</th>\n",
              "      <th>pos_</th>\n",
              "      <th>pos_text_complete</th>\n",
              "      <th>pos_complete</th>\n",
              "      <th>new_text</th>\n",
              "      <th>text_for_POS</th>\n",
              "    </tr>\n",
              "  </thead>\n",
              "  <tbody>\n",
              "    <tr>\n",
              "      <th>0</th>\n",
              "      <td>0</td>\n",
              "      <td>[\"the boy is on a stool that is falling while ...</td>\n",
              "      <td>the boy is on a stool that is falling while he...</td>\n",
              "      <td>the DET boy NOUN is AUX on ADP a DET stool NOU...</td>\n",
              "      <td>DET NOUN AUX ADP DET NOUN PRON AUX VERB SCONJ ...</td>\n",
              "      <td>the determiner boy noun is auxiliary on adposi...</td>\n",
              "      <td>determiner noun auxiliary adposition determine...</td>\n",
              "      <td>the boy is on a stool that is falling while he...</td>\n",
              "      <td>the boy is on a stool that is falling while he...</td>\n",
              "    </tr>\n",
              "    <tr>\n",
              "      <th>1</th>\n",
              "      <td>0</td>\n",
              "      <td>['oh I remember this one . [+ exc] ', 'okay . ...</td>\n",
              "      <td>oh I remember this one . [+ exc]  okay . [+ ex...</td>\n",
              "      <td>oh INTJ I PRON remember VERB this DET one NOUN...</td>\n",
              "      <td>INTJ PRON VERB DET NOUN PUNCT X CCONJ X X SPAC...</td>\n",
              "      <td>oh interjection I pronoun remember verb this d...</td>\n",
              "      <td>interjection pronoun verb determiner noun punc...</td>\n",
              "      <td>oh I remember this one .   okay .   the mom's ...</td>\n",
              "      <td>oh I remember this one .   okay .   the mom's ...</td>\n",
              "    </tr>\n",
              "    <tr>\n",
              "      <th>2</th>\n",
              "      <td>1</td>\n",
              "      <td>['the sink is running over . ', \"and &amp;-uh the ...</td>\n",
              "      <td>the sink is running over .  and &amp;-uh the [/] t...</td>\n",
              "      <td>the DET sink NOUN is AUX running VERB over ADV...</td>\n",
              "      <td>DET NOUN AUX VERB ADV PUNCT SPACE CCONJ CCONJ ...</td>\n",
              "      <td>the determiner sink noun is auxiliary running ...</td>\n",
              "      <td>determiner noun auxiliary verb adverb punctuat...</td>\n",
              "      <td>the sink is running over .  and -uh the [ repe...</td>\n",
              "      <td>the sink is running over .  and -uh the  the l...</td>\n",
              "    </tr>\n",
              "    <tr>\n",
              "      <th>3</th>\n",
              "      <td>0</td>\n",
              "      <td>['the woman is wiping the dishes . ', \"she's s...</td>\n",
              "      <td>the woman is wiping the dishes .  she's standi...</td>\n",
              "      <td>the DET woman NOUN is AUX wiping VERB the DET ...</td>\n",
              "      <td>DET NOUN AUX VERB DET NOUN PUNCT SPACE PRON AU...</td>\n",
              "      <td>the determiner woman noun is auxiliary wiping ...</td>\n",
              "      <td>determiner noun auxiliary verb determiner noun...</td>\n",
              "      <td>the woman is wiping the dishes .  she's standi...</td>\n",
              "      <td>the woman is wiping the dishes .  she's standi...</td>\n",
              "    </tr>\n",
              "    <tr>\n",
              "      <th>4</th>\n",
              "      <td>1</td>\n",
              "      <td>['&amp;-uh a boy is &amp;-uh puttin(g) somethin(g) in ...</td>\n",
              "      <td>&amp;-uh a boy is &amp;-uh puttin(g) somethin(g) in th...</td>\n",
              "      <td>&amp; CCONJ -uh INTJ a DET boy NOUN is AUX &amp; CCONJ...</td>\n",
              "      <td>CCONJ INTJ DET NOUN AUX CCONJ PROPN PROPN PUNC...</td>\n",
              "      <td>&amp; Cconjunction -uh interjection a determiner b...</td>\n",
              "      <td>Cconjunction interjection determiner noun auxi...</td>\n",
              "      <td>-uh a boy is -uh puttin [ incomplete_word ] so...</td>\n",
              "      <td>-uh a boy is -uh puttin  somethin  in the clos...</td>\n",
              "    </tr>\n",
              "  </tbody>\n",
              "</table>\n",
              "</div>\n",
              "    <div class=\"colab-df-buttons\">\n",
              "\n",
              "  <div class=\"colab-df-container\">\n",
              "    <button class=\"colab-df-convert\" onclick=\"convertToInteractive('df-0cb59458-5bed-4422-bf11-baab4fd7733f')\"\n",
              "            title=\"Convert this dataframe to an interactive table.\"\n",
              "            style=\"display:none;\">\n",
              "\n",
              "  <svg xmlns=\"http://www.w3.org/2000/svg\" height=\"24px\" viewBox=\"0 -960 960 960\">\n",
              "    <path d=\"M120-120v-720h720v720H120Zm60-500h600v-160H180v160Zm220 220h160v-160H400v160Zm0 220h160v-160H400v160ZM180-400h160v-160H180v160Zm440 0h160v-160H620v160ZM180-180h160v-160H180v160Zm440 0h160v-160H620v160Z\"/>\n",
              "  </svg>\n",
              "    </button>\n",
              "\n",
              "  <style>\n",
              "    .colab-df-container {\n",
              "      display:flex;\n",
              "      gap: 12px;\n",
              "    }\n",
              "\n",
              "    .colab-df-convert {\n",
              "      background-color: #E8F0FE;\n",
              "      border: none;\n",
              "      border-radius: 50%;\n",
              "      cursor: pointer;\n",
              "      display: none;\n",
              "      fill: #1967D2;\n",
              "      height: 32px;\n",
              "      padding: 0 0 0 0;\n",
              "      width: 32px;\n",
              "    }\n",
              "\n",
              "    .colab-df-convert:hover {\n",
              "      background-color: #E2EBFA;\n",
              "      box-shadow: 0px 1px 2px rgba(60, 64, 67, 0.3), 0px 1px 3px 1px rgba(60, 64, 67, 0.15);\n",
              "      fill: #174EA6;\n",
              "    }\n",
              "\n",
              "    .colab-df-buttons div {\n",
              "      margin-bottom: 4px;\n",
              "    }\n",
              "\n",
              "    [theme=dark] .colab-df-convert {\n",
              "      background-color: #3B4455;\n",
              "      fill: #D2E3FC;\n",
              "    }\n",
              "\n",
              "    [theme=dark] .colab-df-convert:hover {\n",
              "      background-color: #434B5C;\n",
              "      box-shadow: 0px 1px 3px 1px rgba(0, 0, 0, 0.15);\n",
              "      filter: drop-shadow(0px 1px 2px rgba(0, 0, 0, 0.3));\n",
              "      fill: #FFFFFF;\n",
              "    }\n",
              "  </style>\n",
              "\n",
              "    <script>\n",
              "      const buttonEl =\n",
              "        document.querySelector('#df-0cb59458-5bed-4422-bf11-baab4fd7733f button.colab-df-convert');\n",
              "      buttonEl.style.display =\n",
              "        google.colab.kernel.accessAllowed ? 'block' : 'none';\n",
              "\n",
              "      async function convertToInteractive(key) {\n",
              "        const element = document.querySelector('#df-0cb59458-5bed-4422-bf11-baab4fd7733f');\n",
              "        const dataTable =\n",
              "          await google.colab.kernel.invokeFunction('convertToInteractive',\n",
              "                                                    [key], {});\n",
              "        if (!dataTable) return;\n",
              "\n",
              "        const docLinkHtml = 'Like what you see? Visit the ' +\n",
              "          '<a target=\"_blank\" href=https://colab.research.google.com/notebooks/data_table.ipynb>data table notebook</a>'\n",
              "          + ' to learn more about interactive tables.';\n",
              "        element.innerHTML = '';\n",
              "        dataTable['output_type'] = 'display_data';\n",
              "        await google.colab.output.renderOutput(dataTable, element);\n",
              "        const docLink = document.createElement('div');\n",
              "        docLink.innerHTML = docLinkHtml;\n",
              "        element.appendChild(docLink);\n",
              "      }\n",
              "    </script>\n",
              "  </div>\n",
              "\n",
              "\n",
              "<div id=\"df-0ddc1c99-2bd9-4085-af32-e8b4b2a65c6d\">\n",
              "  <button class=\"colab-df-quickchart\" onclick=\"quickchart('df-0ddc1c99-2bd9-4085-af32-e8b4b2a65c6d')\"\n",
              "            title=\"Suggest charts\"\n",
              "            style=\"display:none;\">\n",
              "\n",
              "<svg xmlns=\"http://www.w3.org/2000/svg\" height=\"24px\"viewBox=\"0 0 24 24\"\n",
              "     width=\"24px\">\n",
              "    <g>\n",
              "        <path d=\"M19 3H5c-1.1 0-2 .9-2 2v14c0 1.1.9 2 2 2h14c1.1 0 2-.9 2-2V5c0-1.1-.9-2-2-2zM9 17H7v-7h2v7zm4 0h-2V7h2v10zm4 0h-2v-4h2v4z\"/>\n",
              "    </g>\n",
              "</svg>\n",
              "  </button>\n",
              "\n",
              "<style>\n",
              "  .colab-df-quickchart {\n",
              "      --bg-color: #E8F0FE;\n",
              "      --fill-color: #1967D2;\n",
              "      --hover-bg-color: #E2EBFA;\n",
              "      --hover-fill-color: #174EA6;\n",
              "      --disabled-fill-color: #AAA;\n",
              "      --disabled-bg-color: #DDD;\n",
              "  }\n",
              "\n",
              "  [theme=dark] .colab-df-quickchart {\n",
              "      --bg-color: #3B4455;\n",
              "      --fill-color: #D2E3FC;\n",
              "      --hover-bg-color: #434B5C;\n",
              "      --hover-fill-color: #FFFFFF;\n",
              "      --disabled-bg-color: #3B4455;\n",
              "      --disabled-fill-color: #666;\n",
              "  }\n",
              "\n",
              "  .colab-df-quickchart {\n",
              "    background-color: var(--bg-color);\n",
              "    border: none;\n",
              "    border-radius: 50%;\n",
              "    cursor: pointer;\n",
              "    display: none;\n",
              "    fill: var(--fill-color);\n",
              "    height: 32px;\n",
              "    padding: 0;\n",
              "    width: 32px;\n",
              "  }\n",
              "\n",
              "  .colab-df-quickchart:hover {\n",
              "    background-color: var(--hover-bg-color);\n",
              "    box-shadow: 0 1px 2px rgba(60, 64, 67, 0.3), 0 1px 3px 1px rgba(60, 64, 67, 0.15);\n",
              "    fill: var(--button-hover-fill-color);\n",
              "  }\n",
              "\n",
              "  .colab-df-quickchart-complete:disabled,\n",
              "  .colab-df-quickchart-complete:disabled:hover {\n",
              "    background-color: var(--disabled-bg-color);\n",
              "    fill: var(--disabled-fill-color);\n",
              "    box-shadow: none;\n",
              "  }\n",
              "\n",
              "  .colab-df-spinner {\n",
              "    border: 2px solid var(--fill-color);\n",
              "    border-color: transparent;\n",
              "    border-bottom-color: var(--fill-color);\n",
              "    animation:\n",
              "      spin 1s steps(1) infinite;\n",
              "  }\n",
              "\n",
              "  @keyframes spin {\n",
              "    0% {\n",
              "      border-color: transparent;\n",
              "      border-bottom-color: var(--fill-color);\n",
              "      border-left-color: var(--fill-color);\n",
              "    }\n",
              "    20% {\n",
              "      border-color: transparent;\n",
              "      border-left-color: var(--fill-color);\n",
              "      border-top-color: var(--fill-color);\n",
              "    }\n",
              "    30% {\n",
              "      border-color: transparent;\n",
              "      border-left-color: var(--fill-color);\n",
              "      border-top-color: var(--fill-color);\n",
              "      border-right-color: var(--fill-color);\n",
              "    }\n",
              "    40% {\n",
              "      border-color: transparent;\n",
              "      border-right-color: var(--fill-color);\n",
              "      border-top-color: var(--fill-color);\n",
              "    }\n",
              "    60% {\n",
              "      border-color: transparent;\n",
              "      border-right-color: var(--fill-color);\n",
              "    }\n",
              "    80% {\n",
              "      border-color: transparent;\n",
              "      border-right-color: var(--fill-color);\n",
              "      border-bottom-color: var(--fill-color);\n",
              "    }\n",
              "    90% {\n",
              "      border-color: transparent;\n",
              "      border-bottom-color: var(--fill-color);\n",
              "    }\n",
              "  }\n",
              "</style>\n",
              "\n",
              "  <script>\n",
              "    async function quickchart(key) {\n",
              "      const quickchartButtonEl =\n",
              "        document.querySelector('#' + key + ' button');\n",
              "      quickchartButtonEl.disabled = true;  // To prevent multiple clicks.\n",
              "      quickchartButtonEl.classList.add('colab-df-spinner');\n",
              "      try {\n",
              "        const charts = await google.colab.kernel.invokeFunction(\n",
              "            'suggestCharts', [key], {});\n",
              "      } catch (error) {\n",
              "        console.error('Error during call to suggestCharts:', error);\n",
              "      }\n",
              "      quickchartButtonEl.classList.remove('colab-df-spinner');\n",
              "      quickchartButtonEl.classList.add('colab-df-quickchart-complete');\n",
              "    }\n",
              "    (() => {\n",
              "      let quickchartButtonEl =\n",
              "        document.querySelector('#df-0ddc1c99-2bd9-4085-af32-e8b4b2a65c6d button');\n",
              "      quickchartButtonEl.style.display =\n",
              "        google.colab.kernel.accessAllowed ? 'block' : 'none';\n",
              "    })();\n",
              "  </script>\n",
              "</div>\n",
              "\n",
              "    </div>\n",
              "  </div>\n"
            ],
            "application/vnd.google.colaboratory.intrinsic+json": {
              "type": "dataframe",
              "variable_name": "df",
              "summary": "{\n  \"name\": \"df\",\n  \"rows\": 549,\n  \"fields\": [\n    {\n      \"column\": \"label\",\n      \"properties\": {\n        \"dtype\": \"number\",\n        \"std\": 0,\n        \"min\": 0,\n        \"max\": 1,\n        \"num_unique_values\": 2,\n        \"samples\": [\n          1,\n          0\n        ],\n        \"semantic_type\": \"\",\n        \"description\": \"\"\n      }\n    },\n    {\n      \"column\": \"sentence\",\n      \"properties\": {\n        \"dtype\": \"string\",\n        \"num_unique_values\": 549,\n        \"samples\": [\n          \"[\\\"<the young> [/] <the young> [/] &=clears:throat the young boy he's\\\", 'up on a ladder [: stool] [* s:r] and with some cookies . ', \\\"and the [/] &+l the [/] the little girl she's reachin(g) up ask some\\\", 'cookies (.) from him . [+ gram] ', \\\"and the [//] this young lady here is [//] (.) &-hm I think she's\\\", 'washin(g) dishes . ', 'yeah &+sh &+pro I think +... [+ exc] ', \\\"she's washin(g) dishes <at a> [/] <at a> [/] &+s at a sink . \\\", \\\"(be)cause here's the spigot . [+ gram] \\\", 'and here are cups . ', \\\"and here's the kitchen (.) curtains . \\\", 'and <stand up by> [//] stand up <in the> [//] in a window is [/] is', '[/] &+o <is over the> [/] &-uh is over the sink . [+ gram] ', \\\"(.) there's the sink . \\\", \\\"there's the cups . \\\", 'and that be [//] up here would be a plate . ', 'that would be the window . ']\",\n          \"[\\\"there's the action . [+ exc] \\\", \\\"there's the action as opposed to state +... [+ exc] \\\", '<yeah action &+al alright> [<] . [+ exc] ', 'alright . [+ exc] ', 'the girl is &-uh holding her finger up to her face . ', 'is it that kind of thing ? [+ exc] ', 'alright [<] <pointing toward the cookie jar what or (.) no> [//]', 'reaching out her hand for a cookie . [+ gram] ', 'her brother is [//] &+h has one cookie near her hand . ', 'in his right hand he is reaching in the cookie jar . ', 'the &-um stool is falling over . ', 'he has his xxx . ', 'alright . [+ exc] ', '&-uh the [/] the woman is wiping the dishes . ', \\\"she's holding it [//] &+pla &-uh plate in one hand and drying with\\\", 'the other . ', \\\"&-uh water's &-uh spilling out_of the sink . [+ gram] \\\", \\\"and the water's running out_of the faucet filling the sink .\\\", \\\"&-um (.) looks as if maybe there's a breeze blowing in the curtain\\\", '. [+ gram]', 'yes there is a breeze blowing in the curtains .', '(.) the woman is smiling . ', \\\"they're all smiling . \\\", 'each one is looking at xxx . ', 'xxx at [/] at the other person +... ', 'the water is splashing . ', 'okay ? [+ exc] ']\"\n        ],\n        \"semantic_type\": \"\",\n        \"description\": \"\"\n      }\n    },\n    {\n      \"column\": \"text\",\n      \"properties\": {\n        \"dtype\": \"string\",\n        \"num_unique_values\": 549,\n        \"samples\": [\n          \"<the young> [/] <the young> [/] &=clears:throat the young boy he's up on a ladder [: stool] [* s:r] and with some cookies .  and the [/] &+l the [/] the little girl she's reachin(g) up ask some cookies (.) from him . [+ gram]  and the [//] this young lady here is [//] (.) &-hm I think she's washin(g) dishes .  yeah &+sh &+pro I think +... [+ exc]  she's washin(g) dishes <at a> [/] <at a> [/] &+s at a sink .  (be)cause here's the spigot . [+ gram]  and here are cups .  and here's the kitchen (.) curtains .  and <stand up by> [//] stand up <in the> [//] in a window is [/] is [/] &+o <is over the> [/] &-uh is over the sink . [+ gram]  (.) there's the sink .  there's the cups .  and that be [//] up here would be a plate .  that would be the window . \",\n          \"there's the action . [+ exc]  there's the action as opposed to state +... [+ exc]  <yeah action &+al alright> [<] . [+ exc]  alright . [+ exc]  the girl is &-uh holding her finger up to her face .  is it that kind of thing ? [+ exc]  alright [<] <pointing toward the cookie jar what or (.) no> [//] reaching out her hand for a cookie . [+ gram]  her brother is [//] &+h has one cookie near her hand .  in his right hand he is reaching in the cookie jar .  the &-um stool is falling over .  he has his xxx .  alright . [+ exc]  &-uh the [/] the woman is wiping the dishes .  she's holding it [//] &+pla &-uh plate in one hand and drying with the other .  &-uh water's &-uh spilling out_of the sink . [+ gram]  and the water's running out_of the faucet filling the sink . &-um (.) looks as if maybe there's a breeze blowing in the curtain . [+ gram] yes there is a breeze blowing in the curtains . (.) the woman is smiling .  they're all smiling .  each one is looking at xxx .  xxx at [/] at the other person +...  the water is splashing .  okay ? [+ exc] \"\n        ],\n        \"semantic_type\": \"\",\n        \"description\": \"\"\n      }\n    },\n    {\n      \"column\": \"pos_text\",\n      \"properties\": {\n        \"dtype\": \"string\",\n        \"num_unique_values\": 549,\n        \"samples\": [\n          \"< X the DET young ADJ > X [ X / X ] X < X the DET young ADJ > X [ X / X ] X & CCONJ = PROPN clears VERB : PUNCT throat VERB the DET young ADJ boy NOUN he PRON 's AUX up ADV on ADP a DET ladder NOUN [: X stool NOUN ] PUNCT [ X * X s X : PUNCT r NOUN ] X and CCONJ with ADP some DET cookies NOUN . PUNCT   SPACE and CCONJ the DET [ X / SYM ] X & CCONJ + ADP l NOUN the DET [ X / X ] X the DET little ADJ girl NOUN she PRON 's AUX reachin(g NOUN ) PUNCT up ADP ask VERB some DET cookies NOUN ( PUNCT . PUNCT ) PUNCT from ADP him PRON . PUNCT [ X + X gram X ] PUNCT   SPACE and CCONJ the PRON [ X // X ] X this DET young ADJ lady NOUN here ADV is AUX [ X // X ] X ( PUNCT . PROPN ) PUNCT & CCONJ -hm INTJ I PRON think VERB she PRON 's AUX washin(g ADJ ) PUNCT dishes NOUN . PUNCT   SPACE yeah INTJ & CCONJ + NOUN sh PROPN & CCONJ + NOUN pro ADJ I PRON think VERB + ADV ... PUNCT [ X + CCONJ exc X ] X   SPACE she PRON 's AUX washin(g ADJ ) PUNCT dishes NOUN < PUNCT at ADP a PRON > X [ X / X ] X < X at ADP a PRON > X [ X / X ] X & CCONJ + PROPN s PART at ADP a DET sink NOUN . PUNCT   SPACE ( PUNCT be)cause NOUN here ADV 's AUX the DET spigot NOUN . PUNCT [ X + X gram X ] PUNCT   SPACE and CCONJ here ADV are AUX cups NOUN . PUNCT   SPACE and CCONJ here ADV 's AUX the DET kitchen NOUN ( PUNCT . PUNCT ) PUNCT curtains NOUN . PUNCT   SPACE and CCONJ < AUX stand VERB up ADP by ADP > X [ X // X ] X stand VERB up ADP < X in ADP the DET > X [ X // X ] X in ADP a DET window NOUN is AUX [ X / X ] X is AUX [ X / X ] X & CCONJ + NOUN o NOUN < VERB is AUX over ADP the DET > X [ X / X ] X & CCONJ -uh PROPN is AUX over ADP the DET sink NOUN . PUNCT [ X + X gram X ] PUNCT   SPACE ( PUNCT . PUNCT ) PUNCT there PRON 's VERB the DET sink NOUN . PUNCT   SPACE there PRON 's VERB the DET cups NOUN . PUNCT   SPACE and CCONJ that PRON be AUX [ X // X ] X up ADV here ADV would AUX be AUX a DET plate NOUN . PUNCT   SPACE that PRON would AUX be AUX the DET window NOUN . PUNCT\",\n          \"there PRON 's VERB the DET action NOUN . PUNCT [ X + CCONJ exc X ] X   SPACE there PRON 's VERB the DET action NOUN as SCONJ opposed VERB to ADP state NOUN + NOUN ... PUNCT [ X + CCONJ exc X ] X   SPACE < X yeah NOUN action NOUN & CCONJ + PROPN al PROPN alright PROPN > X [ X < X ] PUNCT . PUNCT [ X + CCONJ exc X ] X   SPACE alright INTJ . PUNCT [ X + CCONJ exc X ] X   SPACE the DET girl NOUN is AUX & CCONJ -uh X holding VERB her PRON finger NOUN up ADP to ADP her PRON face NOUN . PUNCT   SPACE is AUX it PRON that DET kind NOUN of ADP thing NOUN ? PUNCT [ X + CCONJ exc X ] X   SPACE alright INTJ [ X < X ] X < X pointing VERB toward ADP the DET cookie NOUN jar NOUN what PRON or CCONJ ( PUNCT . PUNCT ) PUNCT no X > X [ X // X ] X reaching VERB out ADP her PRON hand NOUN for ADP a DET cookie NOUN . PUNCT [ X + X gram NOUN ] X   SPACE her PRON brother NOUN is AUX [ X // X ] X & CCONJ + PROPN h PROPN has VERB one NUM cookie NOUN near ADP her PRON hand NOUN . PUNCT   SPACE in ADP his PRON right ADJ hand NOUN he PRON is AUX reaching VERB in ADP the DET cookie NOUN jar NOUN . PUNCT   SPACE the DET & CCONJ -um PROPN stool PROPN is AUX falling VERB over ADV . PUNCT   SPACE he PRON has VERB his PRON xxx NOUN . PUNCT   SPACE alright INTJ . PUNCT [ X + CCONJ exc X ] X   SPACE & CCONJ -uh INTJ the PRON [ X / X ] X the DET woman NOUN is AUX wiping VERB the DET dishes NOUN . PUNCT   SPACE she PRON 's AUX holding VERB it PRON [ X // X ] X & CCONJ + ADP pla PROPN & CCONJ -uh SYM plate NOUN in ADP one NUM hand NOUN and CCONJ drying VERB with ADP the DET other ADJ . PUNCT   SPACE & CCONJ -uh PROPN water PROPN 's PART & CCONJ -uh X spilling VERB out_of ADP the DET sink NOUN . PUNCT [ X + X gram X ] PUNCT   SPACE and CCONJ the DET water NOUN 's PART running VERB out_of ADP the DET faucet NOUN filling VERB the DET sink NOUN . PUNCT & CCONJ -um PROPN ( PUNCT . PUNCT ) PUNCT looks VERB as SCONJ if SCONJ maybe ADV there PRON 's VERB a DET breeze NOUN blowing VERB in ADP the DET curtain NOUN . PUNCT [ X + X gram X ] X yes INTJ there PRON is VERB a DET breeze NOUN blowing VERB in ADP the DET curtains NOUN . PUNCT ( PUNCT . PUNCT ) PUNCT the DET woman NOUN is AUX smiling VERB . PUNCT   SPACE they PRON 're AUX all PRON smiling VERB . PUNCT   SPACE each DET one NOUN is AUX looking VERB at ADP xxx PROPN . PUNCT   SPACE xxx INTJ at ADP [ X / X ] X at ADP the DET other ADJ person NOUN + ADV ... PUNCT   SPACE the DET water NOUN is AUX splashing VERB . PUNCT   SPACE okay INTJ ? PUNCT [ X + CCONJ exc X ] PUNCT\"\n        ],\n        \"semantic_type\": \"\",\n        \"description\": \"\"\n      }\n    },\n    {\n      \"column\": \"pos_\",\n      \"properties\": {\n        \"dtype\": \"string\",\n        \"num_unique_values\": 549,\n        \"samples\": [\n          \"X DET ADJ X X X X X DET ADJ X X X X CCONJ PROPN VERB PUNCT VERB DET ADJ NOUN PRON AUX ADV ADP DET NOUN X NOUN PUNCT X X X PUNCT NOUN X CCONJ ADP DET NOUN PUNCT SPACE CCONJ DET X SYM X CCONJ ADP NOUN DET X X X DET ADJ NOUN PRON AUX NOUN PUNCT ADP VERB DET NOUN PUNCT PUNCT PUNCT ADP PRON PUNCT X X X PUNCT SPACE CCONJ PRON X X X DET ADJ NOUN ADV AUX X X X PUNCT PROPN PUNCT CCONJ INTJ PRON VERB PRON AUX ADJ PUNCT NOUN PUNCT SPACE INTJ CCONJ NOUN PROPN CCONJ NOUN ADJ PRON VERB ADV PUNCT X CCONJ X X SPACE PRON AUX ADJ PUNCT NOUN PUNCT ADP PRON X X X X X ADP PRON X X X X CCONJ PROPN PART ADP DET NOUN PUNCT SPACE PUNCT NOUN ADV AUX DET NOUN PUNCT X X X PUNCT SPACE CCONJ ADV AUX NOUN PUNCT SPACE CCONJ ADV AUX DET NOUN PUNCT PUNCT PUNCT NOUN PUNCT SPACE CCONJ AUX VERB ADP ADP X X X X VERB ADP X ADP DET X X X X ADP DET NOUN AUX X X X AUX X X X CCONJ NOUN NOUN VERB AUX ADP DET X X X X CCONJ PROPN AUX ADP DET NOUN PUNCT X X X PUNCT SPACE PUNCT PUNCT PUNCT PRON VERB DET NOUN PUNCT SPACE PRON VERB DET NOUN PUNCT SPACE CCONJ PRON AUX X X X ADV ADV AUX AUX DET NOUN PUNCT SPACE PRON AUX AUX DET NOUN PUNCT\",\n          \"PRON VERB DET NOUN PUNCT X CCONJ X X SPACE PRON VERB DET NOUN SCONJ VERB ADP NOUN NOUN PUNCT X CCONJ X X SPACE X NOUN NOUN CCONJ PROPN PROPN PROPN X X X PUNCT PUNCT X CCONJ X X SPACE INTJ PUNCT X CCONJ X X SPACE DET NOUN AUX CCONJ X VERB PRON NOUN ADP ADP PRON NOUN PUNCT SPACE AUX PRON DET NOUN ADP NOUN PUNCT X CCONJ X X SPACE INTJ X X X X VERB ADP DET NOUN NOUN PRON CCONJ PUNCT PUNCT PUNCT X X X X X VERB ADP PRON NOUN ADP DET NOUN PUNCT X X NOUN X SPACE PRON NOUN AUX X X X CCONJ PROPN PROPN VERB NUM NOUN ADP PRON NOUN PUNCT SPACE ADP PRON ADJ NOUN PRON AUX VERB ADP DET NOUN NOUN PUNCT SPACE DET CCONJ PROPN PROPN AUX VERB ADV PUNCT SPACE PRON VERB PRON NOUN PUNCT SPACE INTJ PUNCT X CCONJ X X SPACE CCONJ INTJ PRON X X X DET NOUN AUX VERB DET NOUN PUNCT SPACE PRON AUX VERB PRON X X X CCONJ ADP PROPN CCONJ SYM NOUN ADP NUM NOUN CCONJ VERB ADP DET ADJ PUNCT SPACE CCONJ PROPN PROPN PART CCONJ X VERB ADP DET NOUN PUNCT X X X PUNCT SPACE CCONJ DET NOUN PART VERB ADP DET NOUN VERB DET NOUN PUNCT CCONJ PROPN PUNCT PUNCT PUNCT VERB SCONJ SCONJ ADV PRON VERB DET NOUN VERB ADP DET NOUN PUNCT X X X X INTJ PRON VERB DET NOUN VERB ADP DET NOUN PUNCT PUNCT PUNCT PUNCT DET NOUN AUX VERB PUNCT SPACE PRON AUX PRON VERB PUNCT SPACE DET NOUN AUX VERB ADP PROPN PUNCT SPACE INTJ ADP X X X ADP DET ADJ NOUN ADV PUNCT SPACE DET NOUN AUX VERB PUNCT SPACE INTJ PUNCT X CCONJ X PUNCT\"\n        ],\n        \"semantic_type\": \"\",\n        \"description\": \"\"\n      }\n    },\n    {\n      \"column\": \"pos_text_complete\",\n      \"properties\": {\n        \"dtype\": \"string\",\n        \"num_unique_values\": 549,\n        \"samples\": [\n          \"< other the determiner young adjective > other [ other / other ] other < other the determiner young adjective > other [ other / other ] other & Cconjunction = proper noun clears verb : punctuation throat verb the determiner young adjective boy noun he pronoun 's auxiliary up adverb on adposition a determiner ladder noun [: other stool noun ] punctuation [ other * other s other : punctuation r noun ] other and Cconjunction with adposition some determiner cookies noun . punctuation   space and Cconjunction the determiner [ other / symbol ] other & Cconjunction + adposition l noun the determiner [ other / other ] other the determiner little adjective girl noun she pronoun 's auxiliary reachin(g noun ) punctuation up adposition ask verb some determiner cookies noun ( punctuation . punctuation ) punctuation from adposition him pronoun . punctuation [ other + other gram other ] punctuation   space and Cconjunction the pronoun [ other // other ] other this determiner young adjective lady noun here adverb is auxiliary [ other // other ] other ( punctuation . proper noun ) punctuation & Cconjunction -hm interjection I pronoun think verb she pronoun 's auxiliary washin(g adjective ) punctuation dishes noun . punctuation   space yeah interjection & Cconjunction + noun sh proper noun & Cconjunction + noun pro adjective I pronoun think verb + adverb ... punctuation [ other + Cconjunction exc other ] other   space she pronoun 's auxiliary washin(g adjective ) punctuation dishes noun < punctuation at adposition a pronoun > other [ other / other ] other < other at adposition a pronoun > other [ other / other ] other & Cconjunction + proper noun s particle at adposition a determiner sink noun . punctuation   space ( punctuation be)cause noun here adverb 's auxiliary the determiner spigot noun . punctuation [ other + other gram other ] punctuation   space and Cconjunction here adverb are auxiliary cups noun . punctuation   space and Cconjunction here adverb 's auxiliary the determiner kitchen noun ( punctuation . punctuation ) punctuation curtains noun . punctuation   space and Cconjunction < auxiliary stand verb up adposition by adposition > other [ other // other ] other stand verb up adposition < other in adposition the determiner > other [ other // other ] other in adposition a determiner window noun is auxiliary [ other / other ] other is auxiliary [ other / other ] other & Cconjunction + noun o noun < verb is auxiliary over adposition the determiner > other [ other / other ] other & Cconjunction -uh proper noun is auxiliary over adposition the determiner sink noun . punctuation [ other + other gram other ] punctuation   space ( punctuation . punctuation ) punctuation there pronoun 's verb the determiner sink noun . punctuation   space there pronoun 's verb the determiner cups noun . punctuation   space and Cconjunction that pronoun be auxiliary [ other // other ] other up adverb here adverb would auxiliary be auxiliary a determiner plate noun . punctuation   space that pronoun would auxiliary be auxiliary the determiner window noun . punctuation\",\n          \"there pronoun 's verb the determiner action noun . punctuation [ other + Cconjunction exc other ] other   space there pronoun 's verb the determiner action noun as Sconjunction opposed verb to adposition state noun + noun ... punctuation [ other + Cconjunction exc other ] other   space < other yeah noun action noun & Cconjunction + proper noun al proper noun alright proper noun > other [ other < other ] punctuation . punctuation [ other + Cconjunction exc other ] other   space alright interjection . punctuation [ other + Cconjunction exc other ] other   space the determiner girl noun is auxiliary & Cconjunction -uh other holding verb her pronoun finger noun up adposition to adposition her pronoun face noun . punctuation   space is auxiliary it pronoun that determiner kind noun of adposition thing noun ? punctuation [ other + Cconjunction exc other ] other   space alright interjection [ other < other ] other < other pointing verb toward adposition the determiner cookie noun jar noun what pronoun or Cconjunction ( punctuation . punctuation ) punctuation no other > other [ other // other ] other reaching verb out adposition her pronoun hand noun for adposition a determiner cookie noun . punctuation [ other + other gram noun ] other   space her pronoun brother noun is auxiliary [ other // other ] other & Cconjunction + proper noun h proper noun has verb one numeral cookie noun near adposition her pronoun hand noun . punctuation   space in adposition his pronoun right adjective hand noun he pronoun is auxiliary reaching verb in adposition the determiner cookie noun jar noun . punctuation   space the determiner & Cconjunction -um proper noun stool proper noun is auxiliary falling verb over adverb . punctuation   space he pronoun has verb his pronoun xxx noun . punctuation   space alright interjection . punctuation [ other + Cconjunction exc other ] other   space & Cconjunction -uh interjection the pronoun [ other / other ] other the determiner woman noun is auxiliary wiping verb the determiner dishes noun . punctuation   space she pronoun 's auxiliary holding verb it pronoun [ other // other ] other & Cconjunction + adposition pla proper noun & Cconjunction -uh symbol plate noun in adposition one numeral hand noun and Cconjunction drying verb with adposition the determiner other adjective . punctuation   space & Cconjunction -uh proper noun water proper noun 's particle & Cconjunction -uh other spilling verb out_of adposition the determiner sink noun . punctuation [ other + other gram other ] punctuation   space and Cconjunction the determiner water noun 's particle running verb out_of adposition the determiner faucet noun filling verb the determiner sink noun . punctuation & Cconjunction -um proper noun ( punctuation . punctuation ) punctuation looks verb as Sconjunction if Sconjunction maybe adverb there pronoun 's verb a determiner breeze noun blowing verb in adposition the determiner curtain noun . punctuation [ other + other gram other ] other yes interjection there pronoun is verb a determiner breeze noun blowing verb in adposition the determiner curtains noun . punctuation ( punctuation . punctuation ) punctuation the determiner woman noun is auxiliary smiling verb . punctuation   space they pronoun 're auxiliary all pronoun smiling verb . punctuation   space each determiner one noun is auxiliary looking verb at adposition xxx proper noun . punctuation   space xxx interjection at adposition [ other / other ] other at adposition the determiner other adjective person noun + adverb ... punctuation   space the determiner water noun is auxiliary splashing verb . punctuation   space okay interjection ? punctuation [ other + Cconjunction exc other ] punctuation\"\n        ],\n        \"semantic_type\": \"\",\n        \"description\": \"\"\n      }\n    },\n    {\n      \"column\": \"pos_complete\",\n      \"properties\": {\n        \"dtype\": \"string\",\n        \"num_unique_values\": 549,\n        \"samples\": [\n          \"other determiner adjective other other other other other determiner adjective other other other other Cconjunction proper noun verb punctuation verb determiner adjective noun pronoun auxiliary adverb adposition determiner noun other noun punctuation other other other punctuation noun other Cconjunction adposition determiner noun punctuation space Cconjunction determiner other symbol other Cconjunction adposition noun determiner other other other determiner adjective noun pronoun auxiliary noun punctuation adposition verb determiner noun punctuation punctuation punctuation adposition pronoun punctuation other other other punctuation space Cconjunction pronoun other other other determiner adjective noun adverb auxiliary other other other punctuation proper noun punctuation Cconjunction interjection pronoun verb pronoun auxiliary adjective punctuation noun punctuation space interjection Cconjunction noun proper noun Cconjunction noun adjective pronoun verb adverb punctuation other Cconjunction other other space pronoun auxiliary adjective punctuation noun punctuation adposition pronoun other other other other other adposition pronoun other other other other Cconjunction proper noun particle adposition determiner noun punctuation space punctuation noun adverb auxiliary determiner noun punctuation other other other punctuation space Cconjunction adverb auxiliary noun punctuation space Cconjunction adverb auxiliary determiner noun punctuation punctuation punctuation noun punctuation space Cconjunction auxiliary verb adposition adposition other other other other verb adposition other adposition determiner other other other other adposition determiner noun auxiliary other other other auxiliary other other other Cconjunction noun noun verb auxiliary adposition determiner other other other other Cconjunction proper noun auxiliary adposition determiner noun punctuation other other other punctuation space punctuation punctuation punctuation pronoun verb determiner noun punctuation space pronoun verb determiner noun punctuation space Cconjunction pronoun auxiliary other other other adverb adverb auxiliary auxiliary determiner noun punctuation space pronoun auxiliary auxiliary determiner noun punctuation\",\n          \"pronoun verb determiner noun punctuation other Cconjunction other other space pronoun verb determiner noun Sconjunction verb adposition noun noun punctuation other Cconjunction other other space other noun noun Cconjunction proper noun proper noun proper noun other other other punctuation punctuation other Cconjunction other other space interjection punctuation other Cconjunction other other space determiner noun auxiliary Cconjunction other verb pronoun noun adposition adposition pronoun noun punctuation space auxiliary pronoun determiner noun adposition noun punctuation other Cconjunction other other space interjection other other other other verb adposition determiner noun noun pronoun Cconjunction punctuation punctuation punctuation other other other other other verb adposition pronoun noun adposition determiner noun punctuation other other noun other space pronoun noun auxiliary other other other Cconjunction proper noun proper noun verb numeral noun adposition pronoun noun punctuation space adposition pronoun adjective noun pronoun auxiliary verb adposition determiner noun noun punctuation space determiner Cconjunction proper noun proper noun auxiliary verb adverb punctuation space pronoun verb pronoun noun punctuation space interjection punctuation other Cconjunction other other space Cconjunction interjection pronoun other other other determiner noun auxiliary verb determiner noun punctuation space pronoun auxiliary verb pronoun other other other Cconjunction adposition proper noun Cconjunction symbol noun adposition numeral noun Cconjunction verb adposition determiner adjective punctuation space Cconjunction proper noun proper noun particle Cconjunction other verb adposition determiner noun punctuation other other other punctuation space Cconjunction determiner noun particle verb adposition determiner noun verb determiner noun punctuation Cconjunction proper noun punctuation punctuation punctuation verb Sconjunction Sconjunction adverb pronoun verb determiner noun verb adposition determiner noun punctuation other other other other interjection pronoun verb determiner noun verb adposition determiner noun punctuation punctuation punctuation punctuation determiner noun auxiliary verb punctuation space pronoun auxiliary pronoun verb punctuation space determiner noun auxiliary verb adposition proper noun punctuation space interjection adposition other other other adposition determiner adjective noun adverb punctuation space determiner noun auxiliary verb punctuation space interjection punctuation other Cconjunction other punctuation\"\n        ],\n        \"semantic_type\": \"\",\n        \"description\": \"\"\n      }\n    },\n    {\n      \"column\": \"new_text\",\n      \"properties\": {\n        \"dtype\": \"string\",\n        \"num_unique_values\": 549,\n        \"samples\": [\n          \"the young [ repetition ] the young [ repetition ] [ action ]throat the young boy he's up on a ladder [ assimilation ] [ word_error ] and with some cookies .  and the [ repetition ] l the [ repetition ] the little girl she's reachin [ incomplete_word ] up ask some cookies [ short_pause ] from him . [ grammatical_error ]  and the [ retraction ] this young lady here is [ retraction ] [ short_pause ] -[ hesitation ] I think she's washin [ incomplete_word ] dishes .  yeah sh pro I think [ incomplete_sentence ]   she's washin [ incomplete_word ] dishes at a [ repetition ] at a [ repetition ] s at a sink .   [ incomplete_word ]cause here's the spigot . [ grammatical_error ]  and here are cups .  and here's the kitchen [ short_pause ] curtains .  and stand up by [ retraction ] stand up in the [ retraction ] in a window is [ repetition ] is [ repetition ] o is over the [ repetition ] -uh is over the sink . [ grammatical_error ]  [ short_pause ] there's the sink .  there's the cups .  and that be [ retraction ] up here would be a plate .  that would be the window . \",\n          \"there's the action .   there's the action as opposed to state [ incomplete_sentence ]   yeah action al alright  .   alright .   the girl is -uh holding her finger up to her face .  is it that kind of thing ?   alright  pointing toward the cookie jar what or [ short_pause ] no [ retraction ] reaching out her hand for a cookie . [ grammatical_error ]  her brother is [ retraction ] h has one cookie near her hand .  in his right hand he is reaching in the cookie jar .  the -um stool is falling over .  he has his [ unintelligible ] .  alright .   -uh the [ repetition ] the woman is wiping the dishes .  she's holding it [ retraction ] pla -uh plate in one hand and drying with the other .  -uh water's -uh spilling out_of the sink . [ grammatical_error ]  and the water's running out_of the faucet filling the sink . -um [ short_pause ] looks as if maybe there's a breeze blowing in the curtain . [ grammatical_error ] yes there is a breeze blowing in the curtains . [ short_pause ] the woman is smiling .  they're all smiling .  each one is looking at [ unintelligible ] .  [ unintelligible ] at [ repetition ] at the other person [ incomplete_sentence ]  the water is splashing .  okay ?  \"\n        ],\n        \"semantic_type\": \"\",\n        \"description\": \"\"\n      }\n    },\n    {\n      \"column\": \"text_for_POS\",\n      \"properties\": {\n        \"dtype\": \"string\",\n        \"num_unique_values\": 549,\n        \"samples\": [\n          \"the young  the young  throat the young boy he's up on a ladder   and with some cookies .  and the  l the  the little girl she's reachin  up ask some cookies  from him .   and the  this young lady here is   - I think she's washin  dishes .  yeah sh pro I think    she's washin  dishes at a  at a  s at a sink .   cause here's the spigot .   and here are cups .  and here's the kitchen  curtains .  and stand up by  stand up in the  in a window is  is  o is over the  -uh is over the sink .    there's the sink .  there's the cups .  and that be  up here would be a plate .  that would be the window . \",\n          \"there's the action .   there's the action as opposed to state    yeah action al alright  .   alright .   the girl is -uh holding her finger up to her face .  is it that kind of thing ?   alright  pointing toward the cookie jar what or  no  reaching out her hand for a cookie .   her brother is  h has one cookie near her hand .  in his right hand he is reaching in the cookie jar .  the -um stool is falling over .  he has his  .  alright .   -uh the  the woman is wiping the dishes .  she's holding it  pla -uh plate in one hand and drying with the other .  -uh water's -uh spilling out_of the sink .   and the water's running out_of the faucet filling the sink . -um  looks as if maybe there's a breeze blowing in the curtain .  yes there is a breeze blowing in the curtains .  the woman is smiling .  they're all smiling .  each one is looking at  .   at  at the other person   the water is splashing .  okay ?  \"\n        ],\n        \"semantic_type\": \"\",\n        \"description\": \"\"\n      }\n    }\n  ]\n}"
            }
          },
          "metadata": {},
          "execution_count": 4
        }
      ],
      "source": [
        "df = pd.read_csv('/content/data/cookie_tagged.csv', sep = ';')\n",
        "df.head()"
      ]
    },
    {
      "cell_type": "code",
      "execution_count": 5,
      "metadata": {
        "id": "JvX0v1KEY8q2",
        "outputId": "a0f3221e-fcb2-4352-d5ad-ed19ef872f72",
        "colab": {
          "base_uri": "https://localhost:8080/"
        }
      },
      "outputs": [
        {
          "output_type": "execute_result",
          "data": {
            "text/plain": [
              "549"
            ]
          },
          "metadata": {},
          "execution_count": 5
        }
      ],
      "source": [
        "len(df)"
      ]
    },
    {
      "cell_type": "markdown",
      "metadata": {
        "id": "dwUjr1SxY8q3"
      },
      "source": [
        "## NBSVM\n",
        "\n",
        "See https://www.kaggle.com/jhoward/nb-svm-strong-linear-baseline"
      ]
    },
    {
      "cell_type": "markdown",
      "metadata": {
        "id": "R19bAzZ9Y8q4"
      },
      "source": [
        "Prepare the data frame"
      ]
    },
    {
      "cell_type": "code",
      "execution_count": 6,
      "metadata": {
        "id": "dyJ5D7haY8q4",
        "colab": {
          "base_uri": "https://localhost:8080/",
          "height": 518
        },
        "outputId": "e50ca3a5-be68-4cf7-d040-d64a3dcb0904"
      },
      "outputs": [
        {
          "output_type": "execute_result",
          "data": {
            "text/plain": [
              "   label                                           sentence  \\\n",
              "0      0  [\"the boy is on a stool that is falling while ...   \n",
              "1      0  ['oh I remember this one . [+ exc] ', 'okay . ...   \n",
              "2      1  ['the sink is running over . ', \"and &-uh the ...   \n",
              "3      0  ['the woman is wiping the dishes . ', \"she's s...   \n",
              "4      1  ['&-uh a boy is &-uh puttin(g) somethin(g) in ...   \n",
              "\n",
              "                                                text  \\\n",
              "0  the boy is on a stool that is falling while he...   \n",
              "1  oh I remember this one . [+ exc]  okay . [+ ex...   \n",
              "2  the sink is running over .  and &-uh the [/] t...   \n",
              "3  the woman is wiping the dishes .  she's standi...   \n",
              "4  &-uh a boy is &-uh puttin(g) somethin(g) in th...   \n",
              "\n",
              "                                            pos_text  \\\n",
              "0  the DET boy NOUN is AUX on ADP a DET stool NOU...   \n",
              "1  oh INTJ I PRON remember VERB this DET one NOUN...   \n",
              "2  the DET sink NOUN is AUX running VERB over ADV...   \n",
              "3  the DET woman NOUN is AUX wiping VERB the DET ...   \n",
              "4  & CCONJ -uh INTJ a DET boy NOUN is AUX & CCONJ...   \n",
              "\n",
              "                                                pos_  \\\n",
              "0  DET NOUN AUX ADP DET NOUN PRON AUX VERB SCONJ ...   \n",
              "1  INTJ PRON VERB DET NOUN PUNCT X CCONJ X X SPAC...   \n",
              "2  DET NOUN AUX VERB ADV PUNCT SPACE CCONJ CCONJ ...   \n",
              "3  DET NOUN AUX VERB DET NOUN PUNCT SPACE PRON AU...   \n",
              "4  CCONJ INTJ DET NOUN AUX CCONJ PROPN PROPN PUNC...   \n",
              "\n",
              "                                   pos_text_complete  \\\n",
              "0  the determiner boy noun is auxiliary on adposi...   \n",
              "1  oh interjection I pronoun remember verb this d...   \n",
              "2  the determiner sink noun is auxiliary running ...   \n",
              "3  the determiner woman noun is auxiliary wiping ...   \n",
              "4  & Cconjunction -uh interjection a determiner b...   \n",
              "\n",
              "                                        pos_complete  \\\n",
              "0  determiner noun auxiliary adposition determine...   \n",
              "1  interjection pronoun verb determiner noun punc...   \n",
              "2  determiner noun auxiliary verb adverb punctuat...   \n",
              "3  determiner noun auxiliary verb determiner noun...   \n",
              "4  Cconjunction interjection determiner noun auxi...   \n",
              "\n",
              "                                            new_text  \\\n",
              "0  the boy is on a stool that is falling while he...   \n",
              "1  oh I remember this one .   okay .   the mom's ...   \n",
              "2  the sink is running over .  and -uh the [ repe...   \n",
              "3  the woman is wiping the dishes .  she's standi...   \n",
              "4  -uh a boy is -uh puttin [ incomplete_word ] so...   \n",
              "\n",
              "                                        text_for_POS  control  dementia  \n",
              "0  the boy is on a stool that is falling while he...        1         0  \n",
              "1  oh I remember this one .   okay .   the mom's ...        1         0  \n",
              "2  the sink is running over .  and -uh the  the l...        0         1  \n",
              "3  the woman is wiping the dishes .  she's standi...        1         0  \n",
              "4  -uh a boy is -uh puttin  somethin  in the clos...        0         1  "
            ],
            "text/html": [
              "\n",
              "  <div id=\"df-d01d3a39-13b1-4b3c-ab52-c6f59f9fc13f\" class=\"colab-df-container\">\n",
              "    <div>\n",
              "<style scoped>\n",
              "    .dataframe tbody tr th:only-of-type {\n",
              "        vertical-align: middle;\n",
              "    }\n",
              "\n",
              "    .dataframe tbody tr th {\n",
              "        vertical-align: top;\n",
              "    }\n",
              "\n",
              "    .dataframe thead th {\n",
              "        text-align: right;\n",
              "    }\n",
              "</style>\n",
              "<table border=\"1\" class=\"dataframe\">\n",
              "  <thead>\n",
              "    <tr style=\"text-align: right;\">\n",
              "      <th></th>\n",
              "      <th>label</th>\n",
              "      <th>sentence</th>\n",
              "      <th>text</th>\n",
              "      <th>pos_text</th>\n",
              "      <th>pos_</th>\n",
              "      <th>pos_text_complete</th>\n",
              "      <th>pos_complete</th>\n",
              "      <th>new_text</th>\n",
              "      <th>text_for_POS</th>\n",
              "      <th>control</th>\n",
              "      <th>dementia</th>\n",
              "    </tr>\n",
              "  </thead>\n",
              "  <tbody>\n",
              "    <tr>\n",
              "      <th>0</th>\n",
              "      <td>0</td>\n",
              "      <td>[\"the boy is on a stool that is falling while ...</td>\n",
              "      <td>the boy is on a stool that is falling while he...</td>\n",
              "      <td>the DET boy NOUN is AUX on ADP a DET stool NOU...</td>\n",
              "      <td>DET NOUN AUX ADP DET NOUN PRON AUX VERB SCONJ ...</td>\n",
              "      <td>the determiner boy noun is auxiliary on adposi...</td>\n",
              "      <td>determiner noun auxiliary adposition determine...</td>\n",
              "      <td>the boy is on a stool that is falling while he...</td>\n",
              "      <td>the boy is on a stool that is falling while he...</td>\n",
              "      <td>1</td>\n",
              "      <td>0</td>\n",
              "    </tr>\n",
              "    <tr>\n",
              "      <th>1</th>\n",
              "      <td>0</td>\n",
              "      <td>['oh I remember this one . [+ exc] ', 'okay . ...</td>\n",
              "      <td>oh I remember this one . [+ exc]  okay . [+ ex...</td>\n",
              "      <td>oh INTJ I PRON remember VERB this DET one NOUN...</td>\n",
              "      <td>INTJ PRON VERB DET NOUN PUNCT X CCONJ X X SPAC...</td>\n",
              "      <td>oh interjection I pronoun remember verb this d...</td>\n",
              "      <td>interjection pronoun verb determiner noun punc...</td>\n",
              "      <td>oh I remember this one .   okay .   the mom's ...</td>\n",
              "      <td>oh I remember this one .   okay .   the mom's ...</td>\n",
              "      <td>1</td>\n",
              "      <td>0</td>\n",
              "    </tr>\n",
              "    <tr>\n",
              "      <th>2</th>\n",
              "      <td>1</td>\n",
              "      <td>['the sink is running over . ', \"and &amp;-uh the ...</td>\n",
              "      <td>the sink is running over .  and &amp;-uh the [/] t...</td>\n",
              "      <td>the DET sink NOUN is AUX running VERB over ADV...</td>\n",
              "      <td>DET NOUN AUX VERB ADV PUNCT SPACE CCONJ CCONJ ...</td>\n",
              "      <td>the determiner sink noun is auxiliary running ...</td>\n",
              "      <td>determiner noun auxiliary verb adverb punctuat...</td>\n",
              "      <td>the sink is running over .  and -uh the [ repe...</td>\n",
              "      <td>the sink is running over .  and -uh the  the l...</td>\n",
              "      <td>0</td>\n",
              "      <td>1</td>\n",
              "    </tr>\n",
              "    <tr>\n",
              "      <th>3</th>\n",
              "      <td>0</td>\n",
              "      <td>['the woman is wiping the dishes . ', \"she's s...</td>\n",
              "      <td>the woman is wiping the dishes .  she's standi...</td>\n",
              "      <td>the DET woman NOUN is AUX wiping VERB the DET ...</td>\n",
              "      <td>DET NOUN AUX VERB DET NOUN PUNCT SPACE PRON AU...</td>\n",
              "      <td>the determiner woman noun is auxiliary wiping ...</td>\n",
              "      <td>determiner noun auxiliary verb determiner noun...</td>\n",
              "      <td>the woman is wiping the dishes .  she's standi...</td>\n",
              "      <td>the woman is wiping the dishes .  she's standi...</td>\n",
              "      <td>1</td>\n",
              "      <td>0</td>\n",
              "    </tr>\n",
              "    <tr>\n",
              "      <th>4</th>\n",
              "      <td>1</td>\n",
              "      <td>['&amp;-uh a boy is &amp;-uh puttin(g) somethin(g) in ...</td>\n",
              "      <td>&amp;-uh a boy is &amp;-uh puttin(g) somethin(g) in th...</td>\n",
              "      <td>&amp; CCONJ -uh INTJ a DET boy NOUN is AUX &amp; CCONJ...</td>\n",
              "      <td>CCONJ INTJ DET NOUN AUX CCONJ PROPN PROPN PUNC...</td>\n",
              "      <td>&amp; Cconjunction -uh interjection a determiner b...</td>\n",
              "      <td>Cconjunction interjection determiner noun auxi...</td>\n",
              "      <td>-uh a boy is -uh puttin [ incomplete_word ] so...</td>\n",
              "      <td>-uh a boy is -uh puttin  somethin  in the clos...</td>\n",
              "      <td>0</td>\n",
              "      <td>1</td>\n",
              "    </tr>\n",
              "  </tbody>\n",
              "</table>\n",
              "</div>\n",
              "    <div class=\"colab-df-buttons\">\n",
              "\n",
              "  <div class=\"colab-df-container\">\n",
              "    <button class=\"colab-df-convert\" onclick=\"convertToInteractive('df-d01d3a39-13b1-4b3c-ab52-c6f59f9fc13f')\"\n",
              "            title=\"Convert this dataframe to an interactive table.\"\n",
              "            style=\"display:none;\">\n",
              "\n",
              "  <svg xmlns=\"http://www.w3.org/2000/svg\" height=\"24px\" viewBox=\"0 -960 960 960\">\n",
              "    <path d=\"M120-120v-720h720v720H120Zm60-500h600v-160H180v160Zm220 220h160v-160H400v160Zm0 220h160v-160H400v160ZM180-400h160v-160H180v160Zm440 0h160v-160H620v160ZM180-180h160v-160H180v160Zm440 0h160v-160H620v160Z\"/>\n",
              "  </svg>\n",
              "    </button>\n",
              "\n",
              "  <style>\n",
              "    .colab-df-container {\n",
              "      display:flex;\n",
              "      gap: 12px;\n",
              "    }\n",
              "\n",
              "    .colab-df-convert {\n",
              "      background-color: #E8F0FE;\n",
              "      border: none;\n",
              "      border-radius: 50%;\n",
              "      cursor: pointer;\n",
              "      display: none;\n",
              "      fill: #1967D2;\n",
              "      height: 32px;\n",
              "      padding: 0 0 0 0;\n",
              "      width: 32px;\n",
              "    }\n",
              "\n",
              "    .colab-df-convert:hover {\n",
              "      background-color: #E2EBFA;\n",
              "      box-shadow: 0px 1px 2px rgba(60, 64, 67, 0.3), 0px 1px 3px 1px rgba(60, 64, 67, 0.15);\n",
              "      fill: #174EA6;\n",
              "    }\n",
              "\n",
              "    .colab-df-buttons div {\n",
              "      margin-bottom: 4px;\n",
              "    }\n",
              "\n",
              "    [theme=dark] .colab-df-convert {\n",
              "      background-color: #3B4455;\n",
              "      fill: #D2E3FC;\n",
              "    }\n",
              "\n",
              "    [theme=dark] .colab-df-convert:hover {\n",
              "      background-color: #434B5C;\n",
              "      box-shadow: 0px 1px 3px 1px rgba(0, 0, 0, 0.15);\n",
              "      filter: drop-shadow(0px 1px 2px rgba(0, 0, 0, 0.3));\n",
              "      fill: #FFFFFF;\n",
              "    }\n",
              "  </style>\n",
              "\n",
              "    <script>\n",
              "      const buttonEl =\n",
              "        document.querySelector('#df-d01d3a39-13b1-4b3c-ab52-c6f59f9fc13f button.colab-df-convert');\n",
              "      buttonEl.style.display =\n",
              "        google.colab.kernel.accessAllowed ? 'block' : 'none';\n",
              "\n",
              "      async function convertToInteractive(key) {\n",
              "        const element = document.querySelector('#df-d01d3a39-13b1-4b3c-ab52-c6f59f9fc13f');\n",
              "        const dataTable =\n",
              "          await google.colab.kernel.invokeFunction('convertToInteractive',\n",
              "                                                    [key], {});\n",
              "        if (!dataTable) return;\n",
              "\n",
              "        const docLinkHtml = 'Like what you see? Visit the ' +\n",
              "          '<a target=\"_blank\" href=https://colab.research.google.com/notebooks/data_table.ipynb>data table notebook</a>'\n",
              "          + ' to learn more about interactive tables.';\n",
              "        element.innerHTML = '';\n",
              "        dataTable['output_type'] = 'display_data';\n",
              "        await google.colab.output.renderOutput(dataTable, element);\n",
              "        const docLink = document.createElement('div');\n",
              "        docLink.innerHTML = docLinkHtml;\n",
              "        element.appendChild(docLink);\n",
              "      }\n",
              "    </script>\n",
              "  </div>\n",
              "\n",
              "\n",
              "<div id=\"df-52ffd97a-8ad2-4183-b233-993acc9da4ef\">\n",
              "  <button class=\"colab-df-quickchart\" onclick=\"quickchart('df-52ffd97a-8ad2-4183-b233-993acc9da4ef')\"\n",
              "            title=\"Suggest charts\"\n",
              "            style=\"display:none;\">\n",
              "\n",
              "<svg xmlns=\"http://www.w3.org/2000/svg\" height=\"24px\"viewBox=\"0 0 24 24\"\n",
              "     width=\"24px\">\n",
              "    <g>\n",
              "        <path d=\"M19 3H5c-1.1 0-2 .9-2 2v14c0 1.1.9 2 2 2h14c1.1 0 2-.9 2-2V5c0-1.1-.9-2-2-2zM9 17H7v-7h2v7zm4 0h-2V7h2v10zm4 0h-2v-4h2v4z\"/>\n",
              "    </g>\n",
              "</svg>\n",
              "  </button>\n",
              "\n",
              "<style>\n",
              "  .colab-df-quickchart {\n",
              "      --bg-color: #E8F0FE;\n",
              "      --fill-color: #1967D2;\n",
              "      --hover-bg-color: #E2EBFA;\n",
              "      --hover-fill-color: #174EA6;\n",
              "      --disabled-fill-color: #AAA;\n",
              "      --disabled-bg-color: #DDD;\n",
              "  }\n",
              "\n",
              "  [theme=dark] .colab-df-quickchart {\n",
              "      --bg-color: #3B4455;\n",
              "      --fill-color: #D2E3FC;\n",
              "      --hover-bg-color: #434B5C;\n",
              "      --hover-fill-color: #FFFFFF;\n",
              "      --disabled-bg-color: #3B4455;\n",
              "      --disabled-fill-color: #666;\n",
              "  }\n",
              "\n",
              "  .colab-df-quickchart {\n",
              "    background-color: var(--bg-color);\n",
              "    border: none;\n",
              "    border-radius: 50%;\n",
              "    cursor: pointer;\n",
              "    display: none;\n",
              "    fill: var(--fill-color);\n",
              "    height: 32px;\n",
              "    padding: 0;\n",
              "    width: 32px;\n",
              "  }\n",
              "\n",
              "  .colab-df-quickchart:hover {\n",
              "    background-color: var(--hover-bg-color);\n",
              "    box-shadow: 0 1px 2px rgba(60, 64, 67, 0.3), 0 1px 3px 1px rgba(60, 64, 67, 0.15);\n",
              "    fill: var(--button-hover-fill-color);\n",
              "  }\n",
              "\n",
              "  .colab-df-quickchart-complete:disabled,\n",
              "  .colab-df-quickchart-complete:disabled:hover {\n",
              "    background-color: var(--disabled-bg-color);\n",
              "    fill: var(--disabled-fill-color);\n",
              "    box-shadow: none;\n",
              "  }\n",
              "\n",
              "  .colab-df-spinner {\n",
              "    border: 2px solid var(--fill-color);\n",
              "    border-color: transparent;\n",
              "    border-bottom-color: var(--fill-color);\n",
              "    animation:\n",
              "      spin 1s steps(1) infinite;\n",
              "  }\n",
              "\n",
              "  @keyframes spin {\n",
              "    0% {\n",
              "      border-color: transparent;\n",
              "      border-bottom-color: var(--fill-color);\n",
              "      border-left-color: var(--fill-color);\n",
              "    }\n",
              "    20% {\n",
              "      border-color: transparent;\n",
              "      border-left-color: var(--fill-color);\n",
              "      border-top-color: var(--fill-color);\n",
              "    }\n",
              "    30% {\n",
              "      border-color: transparent;\n",
              "      border-left-color: var(--fill-color);\n",
              "      border-top-color: var(--fill-color);\n",
              "      border-right-color: var(--fill-color);\n",
              "    }\n",
              "    40% {\n",
              "      border-color: transparent;\n",
              "      border-right-color: var(--fill-color);\n",
              "      border-top-color: var(--fill-color);\n",
              "    }\n",
              "    60% {\n",
              "      border-color: transparent;\n",
              "      border-right-color: var(--fill-color);\n",
              "    }\n",
              "    80% {\n",
              "      border-color: transparent;\n",
              "      border-right-color: var(--fill-color);\n",
              "      border-bottom-color: var(--fill-color);\n",
              "    }\n",
              "    90% {\n",
              "      border-color: transparent;\n",
              "      border-bottom-color: var(--fill-color);\n",
              "    }\n",
              "  }\n",
              "</style>\n",
              "\n",
              "  <script>\n",
              "    async function quickchart(key) {\n",
              "      const quickchartButtonEl =\n",
              "        document.querySelector('#' + key + ' button');\n",
              "      quickchartButtonEl.disabled = true;  // To prevent multiple clicks.\n",
              "      quickchartButtonEl.classList.add('colab-df-spinner');\n",
              "      try {\n",
              "        const charts = await google.colab.kernel.invokeFunction(\n",
              "            'suggestCharts', [key], {});\n",
              "      } catch (error) {\n",
              "        console.error('Error during call to suggestCharts:', error);\n",
              "      }\n",
              "      quickchartButtonEl.classList.remove('colab-df-spinner');\n",
              "      quickchartButtonEl.classList.add('colab-df-quickchart-complete');\n",
              "    }\n",
              "    (() => {\n",
              "      let quickchartButtonEl =\n",
              "        document.querySelector('#df-52ffd97a-8ad2-4183-b233-993acc9da4ef button');\n",
              "      quickchartButtonEl.style.display =\n",
              "        google.colab.kernel.accessAllowed ? 'block' : 'none';\n",
              "    })();\n",
              "  </script>\n",
              "</div>\n",
              "\n",
              "    </div>\n",
              "  </div>\n"
            ],
            "application/vnd.google.colaboratory.intrinsic+json": {
              "type": "dataframe",
              "variable_name": "df",
              "summary": "{\n  \"name\": \"df\",\n  \"rows\": 549,\n  \"fields\": [\n    {\n      \"column\": \"label\",\n      \"properties\": {\n        \"dtype\": \"number\",\n        \"std\": 0,\n        \"min\": 0,\n        \"max\": 1,\n        \"num_unique_values\": 2,\n        \"samples\": [\n          1,\n          0\n        ],\n        \"semantic_type\": \"\",\n        \"description\": \"\"\n      }\n    },\n    {\n      \"column\": \"sentence\",\n      \"properties\": {\n        \"dtype\": \"string\",\n        \"num_unique_values\": 549,\n        \"samples\": [\n          \"[\\\"<the young> [/] <the young> [/] &=clears:throat the young boy he's\\\", 'up on a ladder [: stool] [* s:r] and with some cookies . ', \\\"and the [/] &+l the [/] the little girl she's reachin(g) up ask some\\\", 'cookies (.) from him . [+ gram] ', \\\"and the [//] this young lady here is [//] (.) &-hm I think she's\\\", 'washin(g) dishes . ', 'yeah &+sh &+pro I think +... [+ exc] ', \\\"she's washin(g) dishes <at a> [/] <at a> [/] &+s at a sink . \\\", \\\"(be)cause here's the spigot . [+ gram] \\\", 'and here are cups . ', \\\"and here's the kitchen (.) curtains . \\\", 'and <stand up by> [//] stand up <in the> [//] in a window is [/] is', '[/] &+o <is over the> [/] &-uh is over the sink . [+ gram] ', \\\"(.) there's the sink . \\\", \\\"there's the cups . \\\", 'and that be [//] up here would be a plate . ', 'that would be the window . ']\",\n          \"[\\\"there's the action . [+ exc] \\\", \\\"there's the action as opposed to state +... [+ exc] \\\", '<yeah action &+al alright> [<] . [+ exc] ', 'alright . [+ exc] ', 'the girl is &-uh holding her finger up to her face . ', 'is it that kind of thing ? [+ exc] ', 'alright [<] <pointing toward the cookie jar what or (.) no> [//]', 'reaching out her hand for a cookie . [+ gram] ', 'her brother is [//] &+h has one cookie near her hand . ', 'in his right hand he is reaching in the cookie jar . ', 'the &-um stool is falling over . ', 'he has his xxx . ', 'alright . [+ exc] ', '&-uh the [/] the woman is wiping the dishes . ', \\\"she's holding it [//] &+pla &-uh plate in one hand and drying with\\\", 'the other . ', \\\"&-uh water's &-uh spilling out_of the sink . [+ gram] \\\", \\\"and the water's running out_of the faucet filling the sink .\\\", \\\"&-um (.) looks as if maybe there's a breeze blowing in the curtain\\\", '. [+ gram]', 'yes there is a breeze blowing in the curtains .', '(.) the woman is smiling . ', \\\"they're all smiling . \\\", 'each one is looking at xxx . ', 'xxx at [/] at the other person +... ', 'the water is splashing . ', 'okay ? [+ exc] ']\"\n        ],\n        \"semantic_type\": \"\",\n        \"description\": \"\"\n      }\n    },\n    {\n      \"column\": \"text\",\n      \"properties\": {\n        \"dtype\": \"string\",\n        \"num_unique_values\": 549,\n        \"samples\": [\n          \"<the young> [/] <the young> [/] &=clears:throat the young boy he's up on a ladder [: stool] [* s:r] and with some cookies .  and the [/] &+l the [/] the little girl she's reachin(g) up ask some cookies (.) from him . [+ gram]  and the [//] this young lady here is [//] (.) &-hm I think she's washin(g) dishes .  yeah &+sh &+pro I think +... [+ exc]  she's washin(g) dishes <at a> [/] <at a> [/] &+s at a sink .  (be)cause here's the spigot . [+ gram]  and here are cups .  and here's the kitchen (.) curtains .  and <stand up by> [//] stand up <in the> [//] in a window is [/] is [/] &+o <is over the> [/] &-uh is over the sink . [+ gram]  (.) there's the sink .  there's the cups .  and that be [//] up here would be a plate .  that would be the window . \",\n          \"there's the action . [+ exc]  there's the action as opposed to state +... [+ exc]  <yeah action &+al alright> [<] . [+ exc]  alright . [+ exc]  the girl is &-uh holding her finger up to her face .  is it that kind of thing ? [+ exc]  alright [<] <pointing toward the cookie jar what or (.) no> [//] reaching out her hand for a cookie . [+ gram]  her brother is [//] &+h has one cookie near her hand .  in his right hand he is reaching in the cookie jar .  the &-um stool is falling over .  he has his xxx .  alright . [+ exc]  &-uh the [/] the woman is wiping the dishes .  she's holding it [//] &+pla &-uh plate in one hand and drying with the other .  &-uh water's &-uh spilling out_of the sink . [+ gram]  and the water's running out_of the faucet filling the sink . &-um (.) looks as if maybe there's a breeze blowing in the curtain . [+ gram] yes there is a breeze blowing in the curtains . (.) the woman is smiling .  they're all smiling .  each one is looking at xxx .  xxx at [/] at the other person +...  the water is splashing .  okay ? [+ exc] \"\n        ],\n        \"semantic_type\": \"\",\n        \"description\": \"\"\n      }\n    },\n    {\n      \"column\": \"pos_text\",\n      \"properties\": {\n        \"dtype\": \"string\",\n        \"num_unique_values\": 549,\n        \"samples\": [\n          \"< X the DET young ADJ > X [ X / X ] X < X the DET young ADJ > X [ X / X ] X & CCONJ = PROPN clears VERB : PUNCT throat VERB the DET young ADJ boy NOUN he PRON 's AUX up ADV on ADP a DET ladder NOUN [: X stool NOUN ] PUNCT [ X * X s X : PUNCT r NOUN ] X and CCONJ with ADP some DET cookies NOUN . PUNCT   SPACE and CCONJ the DET [ X / SYM ] X & CCONJ + ADP l NOUN the DET [ X / X ] X the DET little ADJ girl NOUN she PRON 's AUX reachin(g NOUN ) PUNCT up ADP ask VERB some DET cookies NOUN ( PUNCT . PUNCT ) PUNCT from ADP him PRON . PUNCT [ X + X gram X ] PUNCT   SPACE and CCONJ the PRON [ X // X ] X this DET young ADJ lady NOUN here ADV is AUX [ X // X ] X ( PUNCT . PROPN ) PUNCT & CCONJ -hm INTJ I PRON think VERB she PRON 's AUX washin(g ADJ ) PUNCT dishes NOUN . PUNCT   SPACE yeah INTJ & CCONJ + NOUN sh PROPN & CCONJ + NOUN pro ADJ I PRON think VERB + ADV ... PUNCT [ X + CCONJ exc X ] X   SPACE she PRON 's AUX washin(g ADJ ) PUNCT dishes NOUN < PUNCT at ADP a PRON > X [ X / X ] X < X at ADP a PRON > X [ X / X ] X & CCONJ + PROPN s PART at ADP a DET sink NOUN . PUNCT   SPACE ( PUNCT be)cause NOUN here ADV 's AUX the DET spigot NOUN . PUNCT [ X + X gram X ] PUNCT   SPACE and CCONJ here ADV are AUX cups NOUN . PUNCT   SPACE and CCONJ here ADV 's AUX the DET kitchen NOUN ( PUNCT . PUNCT ) PUNCT curtains NOUN . PUNCT   SPACE and CCONJ < AUX stand VERB up ADP by ADP > X [ X // X ] X stand VERB up ADP < X in ADP the DET > X [ X // X ] X in ADP a DET window NOUN is AUX [ X / X ] X is AUX [ X / X ] X & CCONJ + NOUN o NOUN < VERB is AUX over ADP the DET > X [ X / X ] X & CCONJ -uh PROPN is AUX over ADP the DET sink NOUN . PUNCT [ X + X gram X ] PUNCT   SPACE ( PUNCT . PUNCT ) PUNCT there PRON 's VERB the DET sink NOUN . PUNCT   SPACE there PRON 's VERB the DET cups NOUN . PUNCT   SPACE and CCONJ that PRON be AUX [ X // X ] X up ADV here ADV would AUX be AUX a DET plate NOUN . PUNCT   SPACE that PRON would AUX be AUX the DET window NOUN . PUNCT\",\n          \"there PRON 's VERB the DET action NOUN . PUNCT [ X + CCONJ exc X ] X   SPACE there PRON 's VERB the DET action NOUN as SCONJ opposed VERB to ADP state NOUN + NOUN ... PUNCT [ X + CCONJ exc X ] X   SPACE < X yeah NOUN action NOUN & CCONJ + PROPN al PROPN alright PROPN > X [ X < X ] PUNCT . PUNCT [ X + CCONJ exc X ] X   SPACE alright INTJ . PUNCT [ X + CCONJ exc X ] X   SPACE the DET girl NOUN is AUX & CCONJ -uh X holding VERB her PRON finger NOUN up ADP to ADP her PRON face NOUN . PUNCT   SPACE is AUX it PRON that DET kind NOUN of ADP thing NOUN ? PUNCT [ X + CCONJ exc X ] X   SPACE alright INTJ [ X < X ] X < X pointing VERB toward ADP the DET cookie NOUN jar NOUN what PRON or CCONJ ( PUNCT . PUNCT ) PUNCT no X > X [ X // X ] X reaching VERB out ADP her PRON hand NOUN for ADP a DET cookie NOUN . PUNCT [ X + X gram NOUN ] X   SPACE her PRON brother NOUN is AUX [ X // X ] X & CCONJ + PROPN h PROPN has VERB one NUM cookie NOUN near ADP her PRON hand NOUN . PUNCT   SPACE in ADP his PRON right ADJ hand NOUN he PRON is AUX reaching VERB in ADP the DET cookie NOUN jar NOUN . PUNCT   SPACE the DET & CCONJ -um PROPN stool PROPN is AUX falling VERB over ADV . PUNCT   SPACE he PRON has VERB his PRON xxx NOUN . PUNCT   SPACE alright INTJ . PUNCT [ X + CCONJ exc X ] X   SPACE & CCONJ -uh INTJ the PRON [ X / X ] X the DET woman NOUN is AUX wiping VERB the DET dishes NOUN . PUNCT   SPACE she PRON 's AUX holding VERB it PRON [ X // X ] X & CCONJ + ADP pla PROPN & CCONJ -uh SYM plate NOUN in ADP one NUM hand NOUN and CCONJ drying VERB with ADP the DET other ADJ . PUNCT   SPACE & CCONJ -uh PROPN water PROPN 's PART & CCONJ -uh X spilling VERB out_of ADP the DET sink NOUN . PUNCT [ X + X gram X ] PUNCT   SPACE and CCONJ the DET water NOUN 's PART running VERB out_of ADP the DET faucet NOUN filling VERB the DET sink NOUN . PUNCT & CCONJ -um PROPN ( PUNCT . PUNCT ) PUNCT looks VERB as SCONJ if SCONJ maybe ADV there PRON 's VERB a DET breeze NOUN blowing VERB in ADP the DET curtain NOUN . PUNCT [ X + X gram X ] X yes INTJ there PRON is VERB a DET breeze NOUN blowing VERB in ADP the DET curtains NOUN . PUNCT ( PUNCT . PUNCT ) PUNCT the DET woman NOUN is AUX smiling VERB . PUNCT   SPACE they PRON 're AUX all PRON smiling VERB . PUNCT   SPACE each DET one NOUN is AUX looking VERB at ADP xxx PROPN . PUNCT   SPACE xxx INTJ at ADP [ X / X ] X at ADP the DET other ADJ person NOUN + ADV ... PUNCT   SPACE the DET water NOUN is AUX splashing VERB . PUNCT   SPACE okay INTJ ? PUNCT [ X + CCONJ exc X ] PUNCT\"\n        ],\n        \"semantic_type\": \"\",\n        \"description\": \"\"\n      }\n    },\n    {\n      \"column\": \"pos_\",\n      \"properties\": {\n        \"dtype\": \"string\",\n        \"num_unique_values\": 549,\n        \"samples\": [\n          \"X DET ADJ X X X X X DET ADJ X X X X CCONJ PROPN VERB PUNCT VERB DET ADJ NOUN PRON AUX ADV ADP DET NOUN X NOUN PUNCT X X X PUNCT NOUN X CCONJ ADP DET NOUN PUNCT SPACE CCONJ DET X SYM X CCONJ ADP NOUN DET X X X DET ADJ NOUN PRON AUX NOUN PUNCT ADP VERB DET NOUN PUNCT PUNCT PUNCT ADP PRON PUNCT X X X PUNCT SPACE CCONJ PRON X X X DET ADJ NOUN ADV AUX X X X PUNCT PROPN PUNCT CCONJ INTJ PRON VERB PRON AUX ADJ PUNCT NOUN PUNCT SPACE INTJ CCONJ NOUN PROPN CCONJ NOUN ADJ PRON VERB ADV PUNCT X CCONJ X X SPACE PRON AUX ADJ PUNCT NOUN PUNCT ADP PRON X X X X X ADP PRON X X X X CCONJ PROPN PART ADP DET NOUN PUNCT SPACE PUNCT NOUN ADV AUX DET NOUN PUNCT X X X PUNCT SPACE CCONJ ADV AUX NOUN PUNCT SPACE CCONJ ADV AUX DET NOUN PUNCT PUNCT PUNCT NOUN PUNCT SPACE CCONJ AUX VERB ADP ADP X X X X VERB ADP X ADP DET X X X X ADP DET NOUN AUX X X X AUX X X X CCONJ NOUN NOUN VERB AUX ADP DET X X X X CCONJ PROPN AUX ADP DET NOUN PUNCT X X X PUNCT SPACE PUNCT PUNCT PUNCT PRON VERB DET NOUN PUNCT SPACE PRON VERB DET NOUN PUNCT SPACE CCONJ PRON AUX X X X ADV ADV AUX AUX DET NOUN PUNCT SPACE PRON AUX AUX DET NOUN PUNCT\",\n          \"PRON VERB DET NOUN PUNCT X CCONJ X X SPACE PRON VERB DET NOUN SCONJ VERB ADP NOUN NOUN PUNCT X CCONJ X X SPACE X NOUN NOUN CCONJ PROPN PROPN PROPN X X X PUNCT PUNCT X CCONJ X X SPACE INTJ PUNCT X CCONJ X X SPACE DET NOUN AUX CCONJ X VERB PRON NOUN ADP ADP PRON NOUN PUNCT SPACE AUX PRON DET NOUN ADP NOUN PUNCT X CCONJ X X SPACE INTJ X X X X VERB ADP DET NOUN NOUN PRON CCONJ PUNCT PUNCT PUNCT X X X X X VERB ADP PRON NOUN ADP DET NOUN PUNCT X X NOUN X SPACE PRON NOUN AUX X X X CCONJ PROPN PROPN VERB NUM NOUN ADP PRON NOUN PUNCT SPACE ADP PRON ADJ NOUN PRON AUX VERB ADP DET NOUN NOUN PUNCT SPACE DET CCONJ PROPN PROPN AUX VERB ADV PUNCT SPACE PRON VERB PRON NOUN PUNCT SPACE INTJ PUNCT X CCONJ X X SPACE CCONJ INTJ PRON X X X DET NOUN AUX VERB DET NOUN PUNCT SPACE PRON AUX VERB PRON X X X CCONJ ADP PROPN CCONJ SYM NOUN ADP NUM NOUN CCONJ VERB ADP DET ADJ PUNCT SPACE CCONJ PROPN PROPN PART CCONJ X VERB ADP DET NOUN PUNCT X X X PUNCT SPACE CCONJ DET NOUN PART VERB ADP DET NOUN VERB DET NOUN PUNCT CCONJ PROPN PUNCT PUNCT PUNCT VERB SCONJ SCONJ ADV PRON VERB DET NOUN VERB ADP DET NOUN PUNCT X X X X INTJ PRON VERB DET NOUN VERB ADP DET NOUN PUNCT PUNCT PUNCT PUNCT DET NOUN AUX VERB PUNCT SPACE PRON AUX PRON VERB PUNCT SPACE DET NOUN AUX VERB ADP PROPN PUNCT SPACE INTJ ADP X X X ADP DET ADJ NOUN ADV PUNCT SPACE DET NOUN AUX VERB PUNCT SPACE INTJ PUNCT X CCONJ X PUNCT\"\n        ],\n        \"semantic_type\": \"\",\n        \"description\": \"\"\n      }\n    },\n    {\n      \"column\": \"pos_text_complete\",\n      \"properties\": {\n        \"dtype\": \"string\",\n        \"num_unique_values\": 549,\n        \"samples\": [\n          \"< other the determiner young adjective > other [ other / other ] other < other the determiner young adjective > other [ other / other ] other & Cconjunction = proper noun clears verb : punctuation throat verb the determiner young adjective boy noun he pronoun 's auxiliary up adverb on adposition a determiner ladder noun [: other stool noun ] punctuation [ other * other s other : punctuation r noun ] other and Cconjunction with adposition some determiner cookies noun . punctuation   space and Cconjunction the determiner [ other / symbol ] other & Cconjunction + adposition l noun the determiner [ other / other ] other the determiner little adjective girl noun she pronoun 's auxiliary reachin(g noun ) punctuation up adposition ask verb some determiner cookies noun ( punctuation . punctuation ) punctuation from adposition him pronoun . punctuation [ other + other gram other ] punctuation   space and Cconjunction the pronoun [ other // other ] other this determiner young adjective lady noun here adverb is auxiliary [ other // other ] other ( punctuation . proper noun ) punctuation & Cconjunction -hm interjection I pronoun think verb she pronoun 's auxiliary washin(g adjective ) punctuation dishes noun . punctuation   space yeah interjection & Cconjunction + noun sh proper noun & Cconjunction + noun pro adjective I pronoun think verb + adverb ... punctuation [ other + Cconjunction exc other ] other   space she pronoun 's auxiliary washin(g adjective ) punctuation dishes noun < punctuation at adposition a pronoun > other [ other / other ] other < other at adposition a pronoun > other [ other / other ] other & Cconjunction + proper noun s particle at adposition a determiner sink noun . punctuation   space ( punctuation be)cause noun here adverb 's auxiliary the determiner spigot noun . punctuation [ other + other gram other ] punctuation   space and Cconjunction here adverb are auxiliary cups noun . punctuation   space and Cconjunction here adverb 's auxiliary the determiner kitchen noun ( punctuation . punctuation ) punctuation curtains noun . punctuation   space and Cconjunction < auxiliary stand verb up adposition by adposition > other [ other // other ] other stand verb up adposition < other in adposition the determiner > other [ other // other ] other in adposition a determiner window noun is auxiliary [ other / other ] other is auxiliary [ other / other ] other & Cconjunction + noun o noun < verb is auxiliary over adposition the determiner > other [ other / other ] other & Cconjunction -uh proper noun is auxiliary over adposition the determiner sink noun . punctuation [ other + other gram other ] punctuation   space ( punctuation . punctuation ) punctuation there pronoun 's verb the determiner sink noun . punctuation   space there pronoun 's verb the determiner cups noun . punctuation   space and Cconjunction that pronoun be auxiliary [ other // other ] other up adverb here adverb would auxiliary be auxiliary a determiner plate noun . punctuation   space that pronoun would auxiliary be auxiliary the determiner window noun . punctuation\",\n          \"there pronoun 's verb the determiner action noun . punctuation [ other + Cconjunction exc other ] other   space there pronoun 's verb the determiner action noun as Sconjunction opposed verb to adposition state noun + noun ... punctuation [ other + Cconjunction exc other ] other   space < other yeah noun action noun & Cconjunction + proper noun al proper noun alright proper noun > other [ other < other ] punctuation . punctuation [ other + Cconjunction exc other ] other   space alright interjection . punctuation [ other + Cconjunction exc other ] other   space the determiner girl noun is auxiliary & Cconjunction -uh other holding verb her pronoun finger noun up adposition to adposition her pronoun face noun . punctuation   space is auxiliary it pronoun that determiner kind noun of adposition thing noun ? punctuation [ other + Cconjunction exc other ] other   space alright interjection [ other < other ] other < other pointing verb toward adposition the determiner cookie noun jar noun what pronoun or Cconjunction ( punctuation . punctuation ) punctuation no other > other [ other // other ] other reaching verb out adposition her pronoun hand noun for adposition a determiner cookie noun . punctuation [ other + other gram noun ] other   space her pronoun brother noun is auxiliary [ other // other ] other & Cconjunction + proper noun h proper noun has verb one numeral cookie noun near adposition her pronoun hand noun . punctuation   space in adposition his pronoun right adjective hand noun he pronoun is auxiliary reaching verb in adposition the determiner cookie noun jar noun . punctuation   space the determiner & Cconjunction -um proper noun stool proper noun is auxiliary falling verb over adverb . punctuation   space he pronoun has verb his pronoun xxx noun . punctuation   space alright interjection . punctuation [ other + Cconjunction exc other ] other   space & Cconjunction -uh interjection the pronoun [ other / other ] other the determiner woman noun is auxiliary wiping verb the determiner dishes noun . punctuation   space she pronoun 's auxiliary holding verb it pronoun [ other // other ] other & Cconjunction + adposition pla proper noun & Cconjunction -uh symbol plate noun in adposition one numeral hand noun and Cconjunction drying verb with adposition the determiner other adjective . punctuation   space & Cconjunction -uh proper noun water proper noun 's particle & Cconjunction -uh other spilling verb out_of adposition the determiner sink noun . punctuation [ other + other gram other ] punctuation   space and Cconjunction the determiner water noun 's particle running verb out_of adposition the determiner faucet noun filling verb the determiner sink noun . punctuation & Cconjunction -um proper noun ( punctuation . punctuation ) punctuation looks verb as Sconjunction if Sconjunction maybe adverb there pronoun 's verb a determiner breeze noun blowing verb in adposition the determiner curtain noun . punctuation [ other + other gram other ] other yes interjection there pronoun is verb a determiner breeze noun blowing verb in adposition the determiner curtains noun . punctuation ( punctuation . punctuation ) punctuation the determiner woman noun is auxiliary smiling verb . punctuation   space they pronoun 're auxiliary all pronoun smiling verb . punctuation   space each determiner one noun is auxiliary looking verb at adposition xxx proper noun . punctuation   space xxx interjection at adposition [ other / other ] other at adposition the determiner other adjective person noun + adverb ... punctuation   space the determiner water noun is auxiliary splashing verb . punctuation   space okay interjection ? punctuation [ other + Cconjunction exc other ] punctuation\"\n        ],\n        \"semantic_type\": \"\",\n        \"description\": \"\"\n      }\n    },\n    {\n      \"column\": \"pos_complete\",\n      \"properties\": {\n        \"dtype\": \"string\",\n        \"num_unique_values\": 549,\n        \"samples\": [\n          \"other determiner adjective other other other other other determiner adjective other other other other Cconjunction proper noun verb punctuation verb determiner adjective noun pronoun auxiliary adverb adposition determiner noun other noun punctuation other other other punctuation noun other Cconjunction adposition determiner noun punctuation space Cconjunction determiner other symbol other Cconjunction adposition noun determiner other other other determiner adjective noun pronoun auxiliary noun punctuation adposition verb determiner noun punctuation punctuation punctuation adposition pronoun punctuation other other other punctuation space Cconjunction pronoun other other other determiner adjective noun adverb auxiliary other other other punctuation proper noun punctuation Cconjunction interjection pronoun verb pronoun auxiliary adjective punctuation noun punctuation space interjection Cconjunction noun proper noun Cconjunction noun adjective pronoun verb adverb punctuation other Cconjunction other other space pronoun auxiliary adjective punctuation noun punctuation adposition pronoun other other other other other adposition pronoun other other other other Cconjunction proper noun particle adposition determiner noun punctuation space punctuation noun adverb auxiliary determiner noun punctuation other other other punctuation space Cconjunction adverb auxiliary noun punctuation space Cconjunction adverb auxiliary determiner noun punctuation punctuation punctuation noun punctuation space Cconjunction auxiliary verb adposition adposition other other other other verb adposition other adposition determiner other other other other adposition determiner noun auxiliary other other other auxiliary other other other Cconjunction noun noun verb auxiliary adposition determiner other other other other Cconjunction proper noun auxiliary adposition determiner noun punctuation other other other punctuation space punctuation punctuation punctuation pronoun verb determiner noun punctuation space pronoun verb determiner noun punctuation space Cconjunction pronoun auxiliary other other other adverb adverb auxiliary auxiliary determiner noun punctuation space pronoun auxiliary auxiliary determiner noun punctuation\",\n          \"pronoun verb determiner noun punctuation other Cconjunction other other space pronoun verb determiner noun Sconjunction verb adposition noun noun punctuation other Cconjunction other other space other noun noun Cconjunction proper noun proper noun proper noun other other other punctuation punctuation other Cconjunction other other space interjection punctuation other Cconjunction other other space determiner noun auxiliary Cconjunction other verb pronoun noun adposition adposition pronoun noun punctuation space auxiliary pronoun determiner noun adposition noun punctuation other Cconjunction other other space interjection other other other other verb adposition determiner noun noun pronoun Cconjunction punctuation punctuation punctuation other other other other other verb adposition pronoun noun adposition determiner noun punctuation other other noun other space pronoun noun auxiliary other other other Cconjunction proper noun proper noun verb numeral noun adposition pronoun noun punctuation space adposition pronoun adjective noun pronoun auxiliary verb adposition determiner noun noun punctuation space determiner Cconjunction proper noun proper noun auxiliary verb adverb punctuation space pronoun verb pronoun noun punctuation space interjection punctuation other Cconjunction other other space Cconjunction interjection pronoun other other other determiner noun auxiliary verb determiner noun punctuation space pronoun auxiliary verb pronoun other other other Cconjunction adposition proper noun Cconjunction symbol noun adposition numeral noun Cconjunction verb adposition determiner adjective punctuation space Cconjunction proper noun proper noun particle Cconjunction other verb adposition determiner noun punctuation other other other punctuation space Cconjunction determiner noun particle verb adposition determiner noun verb determiner noun punctuation Cconjunction proper noun punctuation punctuation punctuation verb Sconjunction Sconjunction adverb pronoun verb determiner noun verb adposition determiner noun punctuation other other other other interjection pronoun verb determiner noun verb adposition determiner noun punctuation punctuation punctuation punctuation determiner noun auxiliary verb punctuation space pronoun auxiliary pronoun verb punctuation space determiner noun auxiliary verb adposition proper noun punctuation space interjection adposition other other other adposition determiner adjective noun adverb punctuation space determiner noun auxiliary verb punctuation space interjection punctuation other Cconjunction other punctuation\"\n        ],\n        \"semantic_type\": \"\",\n        \"description\": \"\"\n      }\n    },\n    {\n      \"column\": \"new_text\",\n      \"properties\": {\n        \"dtype\": \"string\",\n        \"num_unique_values\": 549,\n        \"samples\": [\n          \"the young [ repetition ] the young [ repetition ] [ action ]throat the young boy he's up on a ladder [ assimilation ] [ word_error ] and with some cookies .  and the [ repetition ] l the [ repetition ] the little girl she's reachin [ incomplete_word ] up ask some cookies [ short_pause ] from him . [ grammatical_error ]  and the [ retraction ] this young lady here is [ retraction ] [ short_pause ] -[ hesitation ] I think she's washin [ incomplete_word ] dishes .  yeah sh pro I think [ incomplete_sentence ]   she's washin [ incomplete_word ] dishes at a [ repetition ] at a [ repetition ] s at a sink .   [ incomplete_word ]cause here's the spigot . [ grammatical_error ]  and here are cups .  and here's the kitchen [ short_pause ] curtains .  and stand up by [ retraction ] stand up in the [ retraction ] in a window is [ repetition ] is [ repetition ] o is over the [ repetition ] -uh is over the sink . [ grammatical_error ]  [ short_pause ] there's the sink .  there's the cups .  and that be [ retraction ] up here would be a plate .  that would be the window . \",\n          \"there's the action .   there's the action as opposed to state [ incomplete_sentence ]   yeah action al alright  .   alright .   the girl is -uh holding her finger up to her face .  is it that kind of thing ?   alright  pointing toward the cookie jar what or [ short_pause ] no [ retraction ] reaching out her hand for a cookie . [ grammatical_error ]  her brother is [ retraction ] h has one cookie near her hand .  in his right hand he is reaching in the cookie jar .  the -um stool is falling over .  he has his [ unintelligible ] .  alright .   -uh the [ repetition ] the woman is wiping the dishes .  she's holding it [ retraction ] pla -uh plate in one hand and drying with the other .  -uh water's -uh spilling out_of the sink . [ grammatical_error ]  and the water's running out_of the faucet filling the sink . -um [ short_pause ] looks as if maybe there's a breeze blowing in the curtain . [ grammatical_error ] yes there is a breeze blowing in the curtains . [ short_pause ] the woman is smiling .  they're all smiling .  each one is looking at [ unintelligible ] .  [ unintelligible ] at [ repetition ] at the other person [ incomplete_sentence ]  the water is splashing .  okay ?  \"\n        ],\n        \"semantic_type\": \"\",\n        \"description\": \"\"\n      }\n    },\n    {\n      \"column\": \"text_for_POS\",\n      \"properties\": {\n        \"dtype\": \"string\",\n        \"num_unique_values\": 549,\n        \"samples\": [\n          \"the young  the young  throat the young boy he's up on a ladder   and with some cookies .  and the  l the  the little girl she's reachin  up ask some cookies  from him .   and the  this young lady here is   - I think she's washin  dishes .  yeah sh pro I think    she's washin  dishes at a  at a  s at a sink .   cause here's the spigot .   and here are cups .  and here's the kitchen  curtains .  and stand up by  stand up in the  in a window is  is  o is over the  -uh is over the sink .    there's the sink .  there's the cups .  and that be  up here would be a plate .  that would be the window . \",\n          \"there's the action .   there's the action as opposed to state    yeah action al alright  .   alright .   the girl is -uh holding her finger up to her face .  is it that kind of thing ?   alright  pointing toward the cookie jar what or  no  reaching out her hand for a cookie .   her brother is  h has one cookie near her hand .  in his right hand he is reaching in the cookie jar .  the -um stool is falling over .  he has his  .  alright .   -uh the  the woman is wiping the dishes .  she's holding it  pla -uh plate in one hand and drying with the other .  -uh water's -uh spilling out_of the sink .   and the water's running out_of the faucet filling the sink . -um  looks as if maybe there's a breeze blowing in the curtain .  yes there is a breeze blowing in the curtains .  the woman is smiling .  they're all smiling .  each one is looking at  .   at  at the other person   the water is splashing .  okay ?  \"\n        ],\n        \"semantic_type\": \"\",\n        \"description\": \"\"\n      }\n    },\n    {\n      \"column\": \"control\",\n      \"properties\": {\n        \"dtype\": \"number\",\n        \"std\": 0,\n        \"min\": 0,\n        \"max\": 1,\n        \"num_unique_values\": 2,\n        \"samples\": [\n          0,\n          1\n        ],\n        \"semantic_type\": \"\",\n        \"description\": \"\"\n      }\n    },\n    {\n      \"column\": \"dementia\",\n      \"properties\": {\n        \"dtype\": \"number\",\n        \"std\": 0,\n        \"min\": 0,\n        \"max\": 1,\n        \"num_unique_values\": 2,\n        \"samples\": [\n          1,\n          0\n        ],\n        \"semantic_type\": \"\",\n        \"description\": \"\"\n      }\n    }\n  ]\n}"
            }
          },
          "metadata": {},
          "execution_count": 6
        }
      ],
      "source": [
        "df['control'] = df.apply(lambda x: 1 if x['label'] == 0 else 0, axis = 1 )\n",
        "df['dementia'] = df.apply(lambda x: 1 if x['label'] == 1 else 0, axis = 1 )\n",
        "df.head()"
      ]
    },
    {
      "cell_type": "code",
      "execution_count": 7,
      "metadata": {
        "id": "8NJwIik8Y8q4"
      },
      "outputs": [],
      "source": [
        "import re, string\n",
        "from sklearn.linear_model import LogisticRegression"
      ]
    },
    {
      "cell_type": "code",
      "execution_count": 8,
      "metadata": {
        "id": "lzvidv8vY8q4"
      },
      "outputs": [],
      "source": [
        "train, test = train_test_split(df, test_size=0.2, random_state=42)"
      ]
    },
    {
      "cell_type": "code",
      "execution_count": 9,
      "metadata": {
        "id": "8UYlOW6fY8q4",
        "outputId": "168828ba-de6e-4408-9ffa-923ff6aebd87",
        "colab": {
          "base_uri": "https://localhost:8080/"
        }
      },
      "outputs": [
        {
          "output_type": "execute_result",
          "data": {
            "text/plain": [
              "(663.6104783599089, 334.9344664034003, 2695)"
            ]
          },
          "metadata": {},
          "execution_count": 9
        }
      ],
      "source": [
        "lens = train.text.str.len()\n",
        "lens.mean(), lens.std(), lens.max()"
      ]
    },
    {
      "cell_type": "code",
      "execution_count": 11,
      "metadata": {
        "id": "kk1_ntQbY8q4",
        "colab": {
          "base_uri": "https://localhost:8080/",
          "height": 430
        },
        "outputId": "decc2c37-3dc1-4885-953b-4105075f438a"
      },
      "outputs": [
        {
          "output_type": "display_data",
          "data": {
            "text/plain": [
              "<Figure size 640x480 with 1 Axes>"
            ],
            "image/png": "[encoded data removed]"
          },
          "metadata": {}
        }
      ],
      "source": [
        "lens.hist();"
      ]
    },
    {
      "cell_type": "code",
      "execution_count": 10,
      "metadata": {
        "id": "FqWfCpGwY8q4"
      },
      "outputs": [],
      "source": [
        "label_cols = ['control', 'dementia']"
      ]
    },
    {
      "cell_type": "code",
      "execution_count": 12,
      "metadata": {
        "id": "yKGj7e5kY8q5"
      },
      "outputs": [],
      "source": [
        "re_tok = re.compile(f'([{string.punctuation}“”¨«»®´·º½¾¿¡§£₤‘’])')\n",
        "def tokenize(s): return re_tok.sub(r' \\1 ', s).split()"
      ]
    },
    {
      "cell_type": "code",
      "execution_count": 13,
      "metadata": {
        "id": "meul9o00Y8q5",
        "colab": {
          "base_uri": "https://localhost:8080/"
        },
        "outputId": "3aa4e466-a260-418d-e166-8c0e8cb52e76"
      },
      "outputs": [
        {
          "output_type": "stream",
          "name": "stderr",
          "text": [
            "/usr/local/lib/python3.10/dist-packages/sklearn/utils/_param_validation.py:558: FutureWarning: Passing an int for a boolean parameter is deprecated in version 1.2 and won't be supported anymore in version 1.4.\n",
            "  warnings.warn(\n",
            "/usr/local/lib/python3.10/dist-packages/sklearn/feature_extraction/text.py:528: UserWarning: The parameter 'token_pattern' will not be used since 'tokenizer' is not None'\n",
            "  warnings.warn(\n"
          ]
        }
      ],
      "source": [
        "TEXT = 'pos_text_complete'\n",
        "\n",
        "def docs_for_column(column):\n",
        "    n = train.shape[0]\n",
        "    vec = TfidfVectorizer(ngram_range=(1,2), tokenizer=tokenize,\n",
        "               min_df=3, max_df=0.9, strip_accents='unicode', use_idf=1,\n",
        "               smooth_idf=1, sublinear_tf=1 )\n",
        "    trn_term_doc = vec.fit_transform(train[column])\n",
        "    test_term_doc = vec.transform(test[column])\n",
        "    return trn_term_doc, test_term_doc\n",
        "\n",
        "trn_term_doc, test_term_doc = docs_for_column(TEXT)"
      ]
    },
    {
      "cell_type": "code",
      "execution_count": 14,
      "metadata": {
        "id": "tv8hTL3fY8q5",
        "outputId": "18e7e483-5fbd-41ac-fc1f-2e059a717cee",
        "colab": {
          "base_uri": "https://localhost:8080/"
        }
      },
      "outputs": [
        {
          "output_type": "execute_result",
          "data": {
            "text/plain": [
              "(<439x3586 sparse matrix of type '<class 'numpy.float64'>'\n",
              " \twith 110011 stored elements in Compressed Sparse Row format>,\n",
              " <110x3586 sparse matrix of type '<class 'numpy.float64'>'\n",
              " \twith 26344 stored elements in Compressed Sparse Row format>)"
            ]
          },
          "metadata": {},
          "execution_count": 14
        }
      ],
      "source": [
        "trn_term_doc, test_term_doc"
      ]
    },
    {
      "cell_type": "markdown",
      "metadata": {
        "id": "zfDluwR5Y8q6"
      },
      "source": [
        "Here's the basic naive bayes feature equation:"
      ]
    },
    {
      "cell_type": "code",
      "execution_count": 15,
      "metadata": {
        "id": "gh0DM170Y8q6"
      },
      "outputs": [],
      "source": [
        "def pr(y_i, y):\n",
        "    p = x[y==y_i].sum(0)\n",
        "    return (p+1) / ((y==y_i).sum()+1)"
      ]
    },
    {
      "cell_type": "markdown",
      "metadata": {
        "id": "RKsbq1G0Y8q6"
      },
      "source": [
        "Use our vectorized documents as input."
      ]
    },
    {
      "cell_type": "code",
      "execution_count": 16,
      "metadata": {
        "id": "ms-sPOdQY8q6"
      },
      "outputs": [],
      "source": [
        "x = trn_term_doc\n",
        "test_x = test_term_doc"
      ]
    },
    {
      "cell_type": "markdown",
      "metadata": {
        "id": "-QZhcXTqY8q6"
      },
      "source": [
        "Fit a model for one dependent at a time:"
      ]
    },
    {
      "cell_type": "code",
      "execution_count": 17,
      "metadata": {
        "id": "gnr3fI7vY8q6"
      },
      "outputs": [],
      "source": [
        "def get_mdl(y):\n",
        "    y = y.values\n",
        "    r = np.log(pr(1,y) / pr(0,y))\n",
        "    #m = LogisticRegression(C=4, dual=True)\n",
        "    m = LogisticRegression(C=12, dual=False, solver='lbfgs', class_weight='balanced')\n",
        "    #m = LogisticRegression(C=1, dual=True, solver='liblinear')\n",
        "    x_nb = x.multiply(r)\n",
        "    return m.fit(x_nb, y), r"
      ]
    },
    {
      "cell_type": "code",
      "execution_count": 18,
      "metadata": {
        "id": "x5bK9Pk3Y8q6",
        "outputId": "93a4d51d-9af3-4aac-ab20-3e7e25160a96",
        "colab": {
          "base_uri": "https://localhost:8080/"
        }
      },
      "outputs": [
        {
          "output_type": "stream",
          "name": "stdout",
          "text": [
            "fit control\n",
            "fit dementia\n"
          ]
        }
      ],
      "source": [
        "preds = np.zeros((len(test), len(label_cols)))\n",
        "\n",
        "for i, j in enumerate(label_cols):\n",
        "    print('fit', j)\n",
        "    m,r = get_mdl(train[j])\n",
        "    preds[:,i] = m.predict_proba(test_x.multiply(r))[:,1]"
      ]
    },
    {
      "cell_type": "code",
      "execution_count": 19,
      "metadata": {
        "id": "YAvvFivLY8q6"
      },
      "outputs": [],
      "source": [
        "y_hat = preds[:,1] > preds[:,0]   # bools\n",
        "y_hat = [int(x) for x in y_hat]   # ints"
      ]
    },
    {
      "cell_type": "code",
      "execution_count": 22,
      "metadata": {
        "id": "1UJ0aVDmY8q6",
        "outputId": "f9902265-5f62-45d5-b25d-1b6c7742cb39",
        "colab": {
          "base_uri": "https://localhost:8080/"
        }
      },
      "outputs": [
        {
          "output_type": "stream",
          "name": "stdout",
          "text": [
            "              precision    recall  f1-score   support\n",
            "\n",
            "           0       0.83      0.84      0.83        51\n",
            "           1       0.86      0.85      0.85        59\n",
            "\n",
            "    accuracy                           0.85       110\n",
            "   macro avg       0.84      0.85      0.84       110\n",
            "weighted avg       0.85      0.85      0.85       110\n",
            "\n"
          ]
        }
      ],
      "source": [
        "print(metrics.classification_report(test['label'], y_hat))"
      ]
    },
    {
      "cell_type": "code",
      "execution_count": 24,
      "metadata": {
        "id": "VGk7rjqOY8q6",
        "outputId": "40d8944c-6b93-4b33-d99c-293f272acd64",
        "colab": {
          "base_uri": "https://localhost:8080/"
        }
      },
      "outputs": [
        {
          "output_type": "stream",
          "name": "stdout",
          "text": [
            "0.8454545454545455\n"
          ]
        }
      ],
      "source": [
        "print(metrics.accuracy_score(test['label'], y_hat))"
      ]
    },
    {
      "cell_type": "markdown",
      "metadata": {
        "id": "ODn2vc0WY8q7"
      },
      "source": [
        "### Repeat same thing for the clean text column"
      ]
    },
    {
      "cell_type": "code",
      "execution_count": 26,
      "metadata": {
        "id": "DDktWRmIY8q7",
        "outputId": "446b9ab6-eb5a-49bb-fcf5-66bd320c6acf",
        "colab": {
          "base_uri": "https://localhost:8080/"
        }
      },
      "outputs": [
        {
          "output_type": "stream",
          "name": "stderr",
          "text": [
            "/usr/local/lib/python3.10/dist-packages/sklearn/utils/_param_validation.py:558: FutureWarning: Passing an int for a boolean parameter is deprecated in version 1.2 and won't be supported anymore in version 1.4.\n",
            "  warnings.warn(\n",
            "/usr/local/lib/python3.10/dist-packages/sklearn/feature_extraction/text.py:528: UserWarning: The parameter 'token_pattern' will not be used since 'tokenizer' is not None'\n",
            "  warnings.warn(\n"
          ]
        },
        {
          "output_type": "stream",
          "name": "stdout",
          "text": [
            "fit control\n",
            "fit dementia\n",
            "              precision    recall  f1-score   support\n",
            "\n",
            "           0       0.79      0.88      0.83        51\n",
            "           1       0.89      0.80      0.84        59\n",
            "\n",
            "    accuracy                           0.84       110\n",
            "   macro avg       0.84      0.84      0.84       110\n",
            "weighted avg       0.84      0.84      0.84       110\n",
            "\n",
            "0.8363636363636363\n"
          ]
        }
      ],
      "source": [
        "TEXT = 'text_for_POS'\n",
        "trn_term_doc, test_term_doc = docs_for_column(TEXT)\n",
        "\n",
        "x = trn_term_doc\n",
        "test_x = test_term_doc\n",
        "\n",
        "preds = np.zeros((len(test), len(label_cols)))\n",
        "for i, j in enumerate(label_cols):\n",
        "    print('fit', j)\n",
        "    m,r = get_mdl(train[j])\n",
        "    preds[:,i] = m.predict_proba(test_x.multiply(r))[:,1]\n",
        "\n",
        "y_hat = preds[:,1] > preds[:,0]   # bools\n",
        "y_hat = [int(x) for x in y_hat]   # ints\n",
        "\n",
        "print(metrics.classification_report(test['label'], y_hat))\n",
        "print(metrics.accuracy_score(test['label'], y_hat))"
      ]
    },
    {
      "cell_type": "markdown",
      "metadata": {
        "id": "hLuNghsjY8q7"
      },
      "source": [
        "-------------"
      ]
    }
  ],
  "metadata": {
    "kernelspec": {
      "display_name": "Python 3",
      "language": "python",
      "name": "python3"
    },
    "language_info": {
      "codemirror_mode": {
        "name": "ipython",
        "version": 3
      },
      "file_extension": ".py",
      "mimetype": "text/x-python",
      "name": "python",
      "nbconvert_exporter": "python",
      "pygments_lexer": "ipython3",
      "version": "3.7.2"
    },
    "colab": {
      "provenance": [],
      "include_colab_link": true
    }
  },
  "nbformat": 4,
  "nbformat_minor": 0
}